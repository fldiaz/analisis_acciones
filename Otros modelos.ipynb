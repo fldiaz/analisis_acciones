{
 "cells": [
  {
   "cell_type": "code",
   "execution_count": 1,
   "metadata": {},
   "outputs": [],
   "source": [
    "# Machine learning\n",
    "from sklearn.metrics import scorer\n",
    "from sklearn.metrics import accuracy_score\n",
    "\n",
    "# For data manipulation\n",
    "import pandas as pd\n",
    "import numpy as np\n",
    "import pandas_datareader.data as web\n",
    "\n",
    "\n",
    "# To plot\n",
    "import matplotlib.pyplot as plt\n",
    "import seaborn\n"
   ]
  },
  {
   "cell_type": "code",
   "execution_count": 2,
   "metadata": {},
   "outputs": [],
   "source": [
    "def nulls(df):\n",
    "    nulls = pd.DataFrame(df.isnull().sum().sort_values(), columns=['nulls'])\n",
    "    nulls['porcentaje'] = round(100*nulls['nulls'] / len(df), 2)\n",
    "    nulls.sort_values('porcentaje')\n",
    "    return nulls"
   ]
  },
  {
   "cell_type": "code",
   "execution_count": 3,
   "metadata": {},
   "outputs": [],
   "source": [
    "from sklearn.metrics import mean_absolute_error\n",
    "def calculate_error(test_y, predicted):\n",
    "    return mean_absolute_error(test_y, predicted)\n",
    "#The best possible score is 1.0, lower values are worse.\n",
    "from sklearn.metrics import explained_variance_score\n",
    "def variance_score(test_y, predicted):\n",
    "    return explained_variance_score(test_y, predicted) \n",
    "from sklearn.metrics import median_absolute_error\n",
    "def median_error(test_y, predicted):\n",
    "    return median_absolute_error (test_y, predicted) \n",
    "from sklearn.metrics import r2_score\n",
    "def r2(test_y, predicted):\n",
    "    return r2_score(test_y, predicted) \n",
    "from sklearn.metrics import mean_squared_error\n",
    "def mse(test_y, predicted):\n",
    "    return mean_squared_error(test_y, predicted)"
   ]
  },
  {
   "cell_type": "code",
   "execution_count": 4,
   "metadata": {},
   "outputs": [],
   "source": [
    "def add_original_feature(df, df_new):\n",
    "    df_new['open'] = df['open']\n",
    "    df_new['open_1'] = df['open'].shift(1)\n",
    "    df_new['close_1'] = df['close'].shift(1)\n",
    "    df_new['high_1'] = df['high'].shift(1)\n",
    "    df_new['low_1'] = df['low'].shift(1)\n",
    "    df_new['volume_1'] = df['volume'].shift(1)\n",
    "    df_new['H-L'] = df['high'].shift(1) - df['low'].shift(1)\n",
    "    df_new['O-C'] = df['close'].shift(1) - df['open'].shift(1)"
   ]
  },
  {
   "cell_type": "code",
   "execution_count": 5,
   "metadata": {},
   "outputs": [],
   "source": [
    "def add_avg_price(df, df_new):\n",
    "    df_new['avg_price_5'] = df['close'].rolling(5).mean().shift(1)\n",
    "    df_new['avg_price_30'] = df['close'].rolling(21).mean().shift(1)\n",
    "    df_new['avg_price_365'] = df['close'].rolling(252).mean().shift(1)\n",
    "    df_new['ratio_avg_price_5_30'] = df_new['avg_price_5'] / df_new['avg_price_30']\n",
    "    df_new['ratio_avg_price_5_365'] = df_new['avg_price_5'] / df_new['avg_price_365']\n",
    "    df_new['ratio_avg_price_30_365'] = df_new['avg_price_30'] / df_new['avg_price_365']"
   ]
  },
  {
   "cell_type": "code",
   "execution_count": 6,
   "metadata": {},
   "outputs": [],
   "source": [
    "def add_avg_volume(df, df_new):\n",
    "    df_new['avg_volume_5'] = df['volume'].rolling(5).mean().shift(1)\n",
    "    df_new['avg_volume_30'] = df['volume'].rolling(21).mean().shift(1)\n",
    "    df_new['avg_volume_365'] = df['volume'].rolling(252).mean().shift(1)\n",
    "    df_new['ratio_avg_volume_5_30'] = df_new['avg_volume_5'] / df_new['avg_volume_30']\n",
    "    df_new['ratio_avg_volume_5_365'] = df_new['avg_volume_5'] / df_new['avg_volume_365']\n",
    "    df_new['ratio_avg_volume_30_365'] = df_new['avg_volume_30'] / df_new['avg_volume_365']"
   ]
  },
  {
   "cell_type": "code",
   "execution_count": 7,
   "metadata": {},
   "outputs": [],
   "source": [
    "def add_std_price(df, df_new):\n",
    "    df_new['std_price_5'] = df['close'].rolling(5).std().shift(1)\n",
    "    df_new['std_price_30'] = df['close'].rolling(21).std().shift(1)\n",
    "    df_new['std_price_365'] = df['close'].rolling(252).std().shift(1)\n",
    "    df_new['ratio_std_price_5_30'] = df_new['std_price_5'] / df_new['std_price_30']\n",
    "    df_new['ratio_std_price_5_365'] = df_new['std_price_5'] / df_new['std_price_365'] \n",
    "    df_new['ratio_std_price_30_365'] = df_new['std_price_30'] / df_new['std_price_365']"
   ]
  },
  {
   "cell_type": "code",
   "execution_count": 8,
   "metadata": {},
   "outputs": [],
   "source": [
    "def add_std_volume(df, df_new):\n",
    "    df_new['std_volume_5'] = df['volume'].rolling(5).std().shift(1)\n",
    "    df_new['std_volume_30'] = df['volume'].rolling(21).std().shift(1)\n",
    "    df_new['std_volume_365'] = df['volume'].rolling(252).std().shift(1)\n",
    "    df_new['ratio_std_volume_5_30'] = df_new['std_volume_5'] / df_new['std_volume_30']\n",
    "    df_new['ratio_std_volume_5_365'] = df_new['std_volume_5'] / df_new['std_volume_365']\n",
    "    df_new['ratio_std_volume_30_365'] = df_new['std_volume_30'] / df_new['std_volume_365']"
   ]
  },
  {
   "cell_type": "code",
   "execution_count": 9,
   "metadata": {},
   "outputs": [],
   "source": [
    "def add_return_feature(df, df_new):\n",
    "    df_new['return_1'] = ((df['close'] - df['close'].shift(1)) / df['close'].shift(1)).shift(1)\n",
    "    df_new['return_5'] = ((df['close'] - df['close'].shift(5)) / df['close'].shift(5)).shift(1)\n",
    "    df_new['return_30'] = ((df['close'] - df['close'].shift(21)) / df['close'].shift(21)).shift(1)\n",
    "    df_new['return_365'] = ((df['close'] - df['close'].shift(252)) / df['close'].shift(252)).shift(1)\n",
    "    df_new['moving_avg_5'] = df_new['return_1'].rolling(5).mean().shift(1)\n",
    "    df_new['moving_avg_30'] = df_new['return_1'].rolling(21).mean().shift(1)\n",
    "    df_new['moving_avg_365'] = df_new['return_1'].rolling(252).mean().shift(1)\n",
    "    "
   ]
  },
  {
   "cell_type": "code",
   "execution_count": 10,
   "metadata": {},
   "outputs": [],
   "source": [
    "def generate_features(df):\n",
    "    \"\"\"\"Generate features for a stock/index based on historical price and performance\n",
    "    @param df: dataframe with columns \"Open\", \"Close\", \"High\",\n",
    "    \"Low\", \"Volume\", \"Adjusted Close\"\n",
    "     @return: dataframe, data set with new features\"\"\"\n",
    "    #df.rename(columns={'Date':'date','Open':'open', 'High': 'high', 'Low':'low', 'Close':'close', 'Volume':'volume'}, inplace=True)\n",
    "    df.date = pd.to_datetime(df.date)\n",
    "    df.set_index('date', inplace=True)\n",
    "    df_new = pd.DataFrame()\n",
    "    # 6 original features\n",
    "    add_original_feature(df, df_new)\n",
    "    # 31 generated features\n",
    "    add_avg_price(df, df_new)\n",
    "    add_avg_volume(df, df_new)\n",
    "    add_std_price(df, df_new)\n",
    "    add_std_volume(df, df_new)\n",
    "    add_return_feature(df, df_new)\n",
    "    # the target\n",
    "    df_new['Price_Rise'] = np.where(df['close'] > df['close'].shift(1), 1, 0)\n",
    "    #df_new['Price_Rise']=df_new['Price_Rise'].shift(-1)\n",
    "    #df_new = df_new.iloc[:, 4:]\n",
    "    df_new['close'] = df['close']\n",
    "    #df_new = df_new.dropna(axis=0)\n",
    "    \n",
    "    return df_new"
   ]
  },
  {
   "cell_type": "markdown",
   "metadata": {},
   "source": [
    "#os.environ[\"IEX_API_KEY\"] ='pk_e271b18147e74da39d11e3ce6db5f471'"
   ]
  },
  {
   "cell_type": "code",
   "execution_count": 11,
   "metadata": {},
   "outputs": [],
   "source": [
    "# collect data for  from 2017-04-22 \n",
    "symbol='KLAC'\n",
    "start = '2006-01-01'\n",
    "end = pd.to_datetime('today')\n",
    "df = web.DataReader(name=symbol, data_source='iex', start=start, end=end, api_key='pk_e271b18147e74da39d11e3ce6db5f471')\n",
    "df.reset_index(inplace=True)\n"
   ]
  },
  {
   "cell_type": "markdown",
   "metadata": {},
   "source": [
    "df=pd.read_csv('KLAC_hist.csv')"
   ]
  },
  {
   "cell_type": "code",
   "execution_count": 12,
   "metadata": {},
   "outputs": [
    {
     "data": {
      "text/html": [
       "<div>\n",
       "<style scoped>\n",
       "    .dataframe tbody tr th:only-of-type {\n",
       "        vertical-align: middle;\n",
       "    }\n",
       "\n",
       "    .dataframe tbody tr th {\n",
       "        vertical-align: top;\n",
       "    }\n",
       "\n",
       "    .dataframe thead th {\n",
       "        text-align: right;\n",
       "    }\n",
       "</style>\n",
       "<table border=\"1\" class=\"dataframe\">\n",
       "  <thead>\n",
       "    <tr style=\"text-align: right;\">\n",
       "      <th></th>\n",
       "      <th>date</th>\n",
       "      <th>open</th>\n",
       "      <th>high</th>\n",
       "      <th>low</th>\n",
       "      <th>close</th>\n",
       "      <th>volume</th>\n",
       "    </tr>\n",
       "  </thead>\n",
       "  <tbody>\n",
       "    <tr>\n",
       "      <th>1253</th>\n",
       "      <td>2020-01-14</td>\n",
       "      <td>175.91</td>\n",
       "      <td>178.22</td>\n",
       "      <td>174.07</td>\n",
       "      <td>177.48</td>\n",
       "      <td>1279640</td>\n",
       "    </tr>\n",
       "    <tr>\n",
       "      <th>1254</th>\n",
       "      <td>2020-01-15</td>\n",
       "      <td>177.09</td>\n",
       "      <td>178.70</td>\n",
       "      <td>175.85</td>\n",
       "      <td>177.92</td>\n",
       "      <td>922813</td>\n",
       "    </tr>\n",
       "    <tr>\n",
       "      <th>1255</th>\n",
       "      <td>2020-01-16</td>\n",
       "      <td>179.50</td>\n",
       "      <td>181.83</td>\n",
       "      <td>179.01</td>\n",
       "      <td>180.91</td>\n",
       "      <td>1197268</td>\n",
       "    </tr>\n",
       "    <tr>\n",
       "      <th>1256</th>\n",
       "      <td>2020-01-17</td>\n",
       "      <td>180.87</td>\n",
       "      <td>180.90</td>\n",
       "      <td>177.36</td>\n",
       "      <td>178.73</td>\n",
       "      <td>1604769</td>\n",
       "    </tr>\n",
       "    <tr>\n",
       "      <th>1257</th>\n",
       "      <td>2020-01-21</td>\n",
       "      <td>177.65</td>\n",
       "      <td>180.89</td>\n",
       "      <td>177.57</td>\n",
       "      <td>178.81</td>\n",
       "      <td>1571351</td>\n",
       "    </tr>\n",
       "  </tbody>\n",
       "</table>\n",
       "</div>"
      ],
      "text/plain": [
       "            date    open    high     low   close   volume\n",
       "1253  2020-01-14  175.91  178.22  174.07  177.48  1279640\n",
       "1254  2020-01-15  177.09  178.70  175.85  177.92   922813\n",
       "1255  2020-01-16  179.50  181.83  179.01  180.91  1197268\n",
       "1256  2020-01-17  180.87  180.90  177.36  178.73  1604769\n",
       "1257  2020-01-21  177.65  180.89  177.57  178.81  1571351"
      ]
     },
     "execution_count": 12,
     "metadata": {},
     "output_type": "execute_result"
    }
   ],
   "source": [
    "df.tail()"
   ]
  },
  {
   "cell_type": "markdown",
   "metadata": {},
   "source": [
    "df=df.append({'Date': '2019-12-27', 'Open': 179.25, 'Close':0}, ignore_index=True)"
   ]
  },
  {
   "cell_type": "markdown",
   "metadata": {},
   "source": [
    "#del df\n",
    "df=pd.read_csv('KLAC.csv')"
   ]
  },
  {
   "cell_type": "markdown",
   "metadata": {},
   "source": [
    "api_key_alpha='LQ7YJVLYENUQ88GJ'\n",
    "\n",
    "from datetime import datetime\n",
    "f = web.DataReader(\"KLAC\", \"av-daily\", start=datetime(2016,11, 1), end=datetime(2019,12,17), api_key=api_key_alpha)"
   ]
  },
  {
   "cell_type": "code",
   "execution_count": 13,
   "metadata": {},
   "outputs": [],
   "source": [
    "data = generate_features(df)"
   ]
  },
  {
   "cell_type": "code",
   "execution_count": 14,
   "metadata": {},
   "outputs": [
    {
     "data": {
      "text/plain": [
       "Index(['open', 'open_1', 'close_1', 'high_1', 'low_1', 'volume_1', 'H-L',\n",
       "       'O-C', 'avg_price_5', 'avg_price_30', 'avg_price_365',\n",
       "       'ratio_avg_price_5_30', 'ratio_avg_price_5_365',\n",
       "       'ratio_avg_price_30_365', 'avg_volume_5', 'avg_volume_30',\n",
       "       'avg_volume_365', 'ratio_avg_volume_5_30', 'ratio_avg_volume_5_365',\n",
       "       'ratio_avg_volume_30_365', 'std_price_5', 'std_price_30',\n",
       "       'std_price_365', 'ratio_std_price_5_30', 'ratio_std_price_5_365',\n",
       "       'ratio_std_price_30_365', 'std_volume_5', 'std_volume_30',\n",
       "       'std_volume_365', 'ratio_std_volume_5_30', 'ratio_std_volume_5_365',\n",
       "       'ratio_std_volume_30_365', 'return_1', 'return_5', 'return_30',\n",
       "       'return_365', 'moving_avg_5', 'moving_avg_30', 'moving_avg_365',\n",
       "       'Price_Rise', 'close'],\n",
       "      dtype='object')"
      ]
     },
     "execution_count": 14,
     "metadata": {},
     "output_type": "execute_result"
    }
   ],
   "source": [
    "data.columns"
   ]
  },
  {
   "cell_type": "code",
   "execution_count": null,
   "metadata": {},
   "outputs": [],
   "source": [
    "data.tail(4)"
   ]
  },
  {
   "cell_type": "markdown",
   "metadata": {},
   "source": [
    "for t in [1]:\n",
    "    data[f'target_{t}m'] = data[f'return_{t}'].shift(-t)"
   ]
  },
  {
   "cell_type": "code",
   "execution_count": 15,
   "metadata": {},
   "outputs": [],
   "source": [
    "data.to_csv(\"~/Dropbox/{}.csv\".format(symbol+'mod'))"
   ]
  },
  {
   "cell_type": "code",
   "execution_count": 18,
   "metadata": {},
   "outputs": [],
   "source": [
    "#  quitamos del archivo la columna con el label target.\n",
    "X=data.drop(columns=['Price_Rise','close'])\n",
    "# por otro lado armamos el arhivo con los resultados\n",
    "y=(data.close)"
   ]
  },
  {
   "cell_type": "code",
   "execution_count": 19,
   "metadata": {},
   "outputs": [],
   "source": [
    "X.dropna(inplace=True)\n",
    "y.dropna(inplace=True)"
   ]
  },
  {
   "cell_type": "code",
   "execution_count": 20,
   "metadata": {},
   "outputs": [],
   "source": [
    "def get_holdout_set(target, features, period=6):\n",
    "    idx = pd.IndexSlice\n",
    "    label = target.name\n",
    "    dates = np.sort(y.index.get_level_values('date').unique())\n",
    "    cv_start, cv_end = dates[0], dates[-period - 2]\n",
    "    holdout_start, holdout_end = dates[-period - 1], dates[-1]\n",
    "\n",
    "    df = features.join(target.to_frame())\n",
    "    train = df.loc[idx[cv_start: cv_end], :]\n",
    "    y_train, X_train = train[label], train.drop(label, axis=1)\n",
    "\n",
    "    test = df.loc[idx[holdout_start: holdout_end], :]\n",
    "    y_test, X_test = test[label], test.drop(label, axis=1)\n",
    "    return y_train, X_train, y_test, X_test"
   ]
  },
  {
   "cell_type": "code",
   "execution_count": 21,
   "metadata": {},
   "outputs": [],
   "source": [
    "train_y, train_X, test_y, test_X= get_holdout_set(y, X, period=12)"
   ]
  },
  {
   "cell_type": "code",
   "execution_count": 22,
   "metadata": {},
   "outputs": [],
   "source": [
    "X_train=train_X.values\n",
    "y_train=train_y.values\n",
    "X_test=test_X.values\n",
    "y_test=test_y.values"
   ]
  },
  {
   "cell_type": "code",
   "execution_count": 23,
   "metadata": {},
   "outputs": [
    {
     "data": {
      "text/plain": [
       "array([182.57, 179.08, 175.05, 176.44, 176.67, 175.49, 173.01, 175.1 ,\n",
       "       177.48, 177.92, 180.91, 178.73, 178.81])"
      ]
     },
     "execution_count": 23,
     "metadata": {},
     "output_type": "execute_result"
    }
   ],
   "source": [
    "y_test"
   ]
  },
  {
   "cell_type": "code",
   "execution_count": 24,
   "metadata": {},
   "outputs": [],
   "source": [
    "from sklearn.preprocessing import StandardScaler\n",
    "scaler = StandardScaler()\n",
    "X_scaled_train = scaler.fit_transform(X_train)\n",
    "X_scaled_test = scaler.transform(X_test)"
   ]
  },
  {
   "cell_type": "code",
   "execution_count": 25,
   "metadata": {},
   "outputs": [
    {
     "name": "stderr",
     "output_type": "stream",
     "text": [
      "C:\\Users\\FLORENCIA\\Anaconda\\lib\\site-packages\\sklearn\\linear_model\\stochastic_gradient.py:152: DeprecationWarning: n_iter parameter is deprecated in 0.19 and will be removed in 0.21. Use max_iter and tol instead.\n",
      "  DeprecationWarning)\n",
      "C:\\Users\\FLORENCIA\\Anaconda\\lib\\site-packages\\sklearn\\linear_model\\stochastic_gradient.py:152: DeprecationWarning: n_iter parameter is deprecated in 0.19 and will be removed in 0.21. Use max_iter and tol instead.\n",
      "  DeprecationWarning)\n",
      "C:\\Users\\FLORENCIA\\Anaconda\\lib\\site-packages\\sklearn\\linear_model\\stochastic_gradient.py:152: DeprecationWarning: n_iter parameter is deprecated in 0.19 and will be removed in 0.21. Use max_iter and tol instead.\n",
      "  DeprecationWarning)\n",
      "C:\\Users\\FLORENCIA\\Anaconda\\lib\\site-packages\\sklearn\\linear_model\\stochastic_gradient.py:152: DeprecationWarning: n_iter parameter is deprecated in 0.19 and will be removed in 0.21. Use max_iter and tol instead.\n",
      "  DeprecationWarning)\n",
      "C:\\Users\\FLORENCIA\\Anaconda\\lib\\site-packages\\sklearn\\linear_model\\stochastic_gradient.py:152: DeprecationWarning: n_iter parameter is deprecated in 0.19 and will be removed in 0.21. Use max_iter and tol instead.\n",
      "  DeprecationWarning)\n",
      "C:\\Users\\FLORENCIA\\Anaconda\\lib\\site-packages\\sklearn\\linear_model\\stochastic_gradient.py:152: DeprecationWarning: n_iter parameter is deprecated in 0.19 and will be removed in 0.21. Use max_iter and tol instead.\n",
      "  DeprecationWarning)\n",
      "C:\\Users\\FLORENCIA\\Anaconda\\lib\\site-packages\\sklearn\\linear_model\\stochastic_gradient.py:152: DeprecationWarning: n_iter parameter is deprecated in 0.19 and will be removed in 0.21. Use max_iter and tol instead.\n",
      "  DeprecationWarning)\n",
      "C:\\Users\\FLORENCIA\\Anaconda\\lib\\site-packages\\sklearn\\linear_model\\stochastic_gradient.py:152: DeprecationWarning: n_iter parameter is deprecated in 0.19 and will be removed in 0.21. Use max_iter and tol instead.\n",
      "  DeprecationWarning)\n",
      "C:\\Users\\FLORENCIA\\Anaconda\\lib\\site-packages\\sklearn\\linear_model\\stochastic_gradient.py:152: DeprecationWarning: n_iter parameter is deprecated in 0.19 and will be removed in 0.21. Use max_iter and tol instead.\n",
      "  DeprecationWarning)\n",
      "C:\\Users\\FLORENCIA\\Anaconda\\lib\\site-packages\\sklearn\\linear_model\\stochastic_gradient.py:152: DeprecationWarning: n_iter parameter is deprecated in 0.19 and will be removed in 0.21. Use max_iter and tol instead.\n",
      "  DeprecationWarning)\n",
      "C:\\Users\\FLORENCIA\\Anaconda\\lib\\site-packages\\sklearn\\linear_model\\stochastic_gradient.py:152: DeprecationWarning: n_iter parameter is deprecated in 0.19 and will be removed in 0.21. Use max_iter and tol instead.\n",
      "  DeprecationWarning)\n",
      "C:\\Users\\FLORENCIA\\Anaconda\\lib\\site-packages\\sklearn\\linear_model\\stochastic_gradient.py:152: DeprecationWarning: n_iter parameter is deprecated in 0.19 and will be removed in 0.21. Use max_iter and tol instead.\n",
      "  DeprecationWarning)\n",
      "C:\\Users\\FLORENCIA\\Anaconda\\lib\\site-packages\\sklearn\\linear_model\\stochastic_gradient.py:152: DeprecationWarning: n_iter parameter is deprecated in 0.19 and will be removed in 0.21. Use max_iter and tol instead.\n",
      "  DeprecationWarning)\n",
      "C:\\Users\\FLORENCIA\\Anaconda\\lib\\site-packages\\sklearn\\linear_model\\stochastic_gradient.py:152: DeprecationWarning: n_iter parameter is deprecated in 0.19 and will be removed in 0.21. Use max_iter and tol instead.\n",
      "  DeprecationWarning)\n",
      "C:\\Users\\FLORENCIA\\Anaconda\\lib\\site-packages\\sklearn\\linear_model\\stochastic_gradient.py:152: DeprecationWarning: n_iter parameter is deprecated in 0.19 and will be removed in 0.21. Use max_iter and tol instead.\n",
      "  DeprecationWarning)\n",
      "C:\\Users\\FLORENCIA\\Anaconda\\lib\\site-packages\\sklearn\\linear_model\\stochastic_gradient.py:152: DeprecationWarning: n_iter parameter is deprecated in 0.19 and will be removed in 0.21. Use max_iter and tol instead.\n",
      "  DeprecationWarning)\n",
      "C:\\Users\\FLORENCIA\\Anaconda\\lib\\site-packages\\sklearn\\linear_model\\stochastic_gradient.py:152: DeprecationWarning: n_iter parameter is deprecated in 0.19 and will be removed in 0.21. Use max_iter and tol instead.\n",
      "  DeprecationWarning)\n",
      "C:\\Users\\FLORENCIA\\Anaconda\\lib\\site-packages\\sklearn\\linear_model\\stochastic_gradient.py:152: DeprecationWarning: n_iter parameter is deprecated in 0.19 and will be removed in 0.21. Use max_iter and tol instead.\n",
      "  DeprecationWarning)\n",
      "C:\\Users\\FLORENCIA\\Anaconda\\lib\\site-packages\\sklearn\\linear_model\\stochastic_gradient.py:152: DeprecationWarning: n_iter parameter is deprecated in 0.19 and will be removed in 0.21. Use max_iter and tol instead.\n",
      "  DeprecationWarning)\n",
      "C:\\Users\\FLORENCIA\\Anaconda\\lib\\site-packages\\sklearn\\linear_model\\stochastic_gradient.py:152: DeprecationWarning: n_iter parameter is deprecated in 0.19 and will be removed in 0.21. Use max_iter and tol instead.\n",
      "  DeprecationWarning)\n",
      "C:\\Users\\FLORENCIA\\Anaconda\\lib\\site-packages\\sklearn\\linear_model\\stochastic_gradient.py:152: DeprecationWarning: n_iter parameter is deprecated in 0.19 and will be removed in 0.21. Use max_iter and tol instead.\n",
      "  DeprecationWarning)\n",
      "C:\\Users\\FLORENCIA\\Anaconda\\lib\\site-packages\\sklearn\\linear_model\\stochastic_gradient.py:152: DeprecationWarning: n_iter parameter is deprecated in 0.19 and will be removed in 0.21. Use max_iter and tol instead.\n",
      "  DeprecationWarning)\n",
      "C:\\Users\\FLORENCIA\\Anaconda\\lib\\site-packages\\sklearn\\linear_model\\stochastic_gradient.py:152: DeprecationWarning: n_iter parameter is deprecated in 0.19 and will be removed in 0.21. Use max_iter and tol instead.\n",
      "  DeprecationWarning)\n",
      "C:\\Users\\FLORENCIA\\Anaconda\\lib\\site-packages\\sklearn\\linear_model\\stochastic_gradient.py:152: DeprecationWarning: n_iter parameter is deprecated in 0.19 and will be removed in 0.21. Use max_iter and tol instead.\n",
      "  DeprecationWarning)\n",
      "C:\\Users\\FLORENCIA\\Anaconda\\lib\\site-packages\\sklearn\\linear_model\\stochastic_gradient.py:152: DeprecationWarning: n_iter parameter is deprecated in 0.19 and will be removed in 0.21. Use max_iter and tol instead.\n",
      "  DeprecationWarning)\n",
      "C:\\Users\\FLORENCIA\\Anaconda\\lib\\site-packages\\sklearn\\linear_model\\stochastic_gradient.py:152: DeprecationWarning: n_iter parameter is deprecated in 0.19 and will be removed in 0.21. Use max_iter and tol instead.\n",
      "  DeprecationWarning)\n",
      "C:\\Users\\FLORENCIA\\Anaconda\\lib\\site-packages\\sklearn\\linear_model\\stochastic_gradient.py:152: DeprecationWarning: n_iter parameter is deprecated in 0.19 and will be removed in 0.21. Use max_iter and tol instead.\n",
      "  DeprecationWarning)\n",
      "C:\\Users\\FLORENCIA\\Anaconda\\lib\\site-packages\\sklearn\\linear_model\\stochastic_gradient.py:152: DeprecationWarning: n_iter parameter is deprecated in 0.19 and will be removed in 0.21. Use max_iter and tol instead.\n",
      "  DeprecationWarning)\n",
      "C:\\Users\\FLORENCIA\\Anaconda\\lib\\site-packages\\sklearn\\linear_model\\stochastic_gradient.py:152: DeprecationWarning: n_iter parameter is deprecated in 0.19 and will be removed in 0.21. Use max_iter and tol instead.\n",
      "  DeprecationWarning)\n",
      "C:\\Users\\FLORENCIA\\Anaconda\\lib\\site-packages\\sklearn\\linear_model\\stochastic_gradient.py:152: DeprecationWarning: n_iter parameter is deprecated in 0.19 and will be removed in 0.21. Use max_iter and tol instead.\n",
      "  DeprecationWarning)\n",
      "C:\\Users\\FLORENCIA\\Anaconda\\lib\\site-packages\\sklearn\\linear_model\\stochastic_gradient.py:152: DeprecationWarning: n_iter parameter is deprecated in 0.19 and will be removed in 0.21. Use max_iter and tol instead.\n",
      "  DeprecationWarning)\n",
      "C:\\Users\\FLORENCIA\\Anaconda\\lib\\site-packages\\sklearn\\linear_model\\stochastic_gradient.py:152: DeprecationWarning: n_iter parameter is deprecated in 0.19 and will be removed in 0.21. Use max_iter and tol instead.\n",
      "  DeprecationWarning)\n",
      "C:\\Users\\FLORENCIA\\Anaconda\\lib\\site-packages\\sklearn\\linear_model\\stochastic_gradient.py:152: DeprecationWarning: n_iter parameter is deprecated in 0.19 and will be removed in 0.21. Use max_iter and tol instead.\n",
      "  DeprecationWarning)\n",
      "C:\\Users\\FLORENCIA\\Anaconda\\lib\\site-packages\\sklearn\\linear_model\\stochastic_gradient.py:152: DeprecationWarning: n_iter parameter is deprecated in 0.19 and will be removed in 0.21. Use max_iter and tol instead.\n",
      "  DeprecationWarning)\n",
      "C:\\Users\\FLORENCIA\\Anaconda\\lib\\site-packages\\sklearn\\linear_model\\stochastic_gradient.py:152: DeprecationWarning: n_iter parameter is deprecated in 0.19 and will be removed in 0.21. Use max_iter and tol instead.\n",
      "  DeprecationWarning)\n"
     ]
    },
    {
     "name": "stderr",
     "output_type": "stream",
     "text": [
      "C:\\Users\\FLORENCIA\\Anaconda\\lib\\site-packages\\sklearn\\linear_model\\stochastic_gradient.py:152: DeprecationWarning: n_iter parameter is deprecated in 0.19 and will be removed in 0.21. Use max_iter and tol instead.\n",
      "  DeprecationWarning)\n",
      "C:\\Users\\FLORENCIA\\Anaconda\\lib\\site-packages\\sklearn\\linear_model\\stochastic_gradient.py:152: DeprecationWarning: n_iter parameter is deprecated in 0.19 and will be removed in 0.21. Use max_iter and tol instead.\n",
      "  DeprecationWarning)\n",
      "C:\\Users\\FLORENCIA\\Anaconda\\lib\\site-packages\\sklearn\\linear_model\\stochastic_gradient.py:152: DeprecationWarning: n_iter parameter is deprecated in 0.19 and will be removed in 0.21. Use max_iter and tol instead.\n",
      "  DeprecationWarning)\n",
      "C:\\Users\\FLORENCIA\\Anaconda\\lib\\site-packages\\sklearn\\linear_model\\stochastic_gradient.py:152: DeprecationWarning: n_iter parameter is deprecated in 0.19 and will be removed in 0.21. Use max_iter and tol instead.\n",
      "  DeprecationWarning)\n",
      "C:\\Users\\FLORENCIA\\Anaconda\\lib\\site-packages\\sklearn\\linear_model\\stochastic_gradient.py:152: DeprecationWarning: n_iter parameter is deprecated in 0.19 and will be removed in 0.21. Use max_iter and tol instead.\n",
      "  DeprecationWarning)\n",
      "C:\\Users\\FLORENCIA\\Anaconda\\lib\\site-packages\\sklearn\\linear_model\\stochastic_gradient.py:152: DeprecationWarning: n_iter parameter is deprecated in 0.19 and will be removed in 0.21. Use max_iter and tol instead.\n",
      "  DeprecationWarning)\n",
      "C:\\Users\\FLORENCIA\\Anaconda\\lib\\site-packages\\sklearn\\linear_model\\stochastic_gradient.py:152: DeprecationWarning: n_iter parameter is deprecated in 0.19 and will be removed in 0.21. Use max_iter and tol instead.\n",
      "  DeprecationWarning)\n",
      "C:\\Users\\FLORENCIA\\Anaconda\\lib\\site-packages\\sklearn\\linear_model\\stochastic_gradient.py:152: DeprecationWarning: n_iter parameter is deprecated in 0.19 and will be removed in 0.21. Use max_iter and tol instead.\n",
      "  DeprecationWarning)\n",
      "C:\\Users\\FLORENCIA\\Anaconda\\lib\\site-packages\\sklearn\\linear_model\\stochastic_gradient.py:152: DeprecationWarning: n_iter parameter is deprecated in 0.19 and will be removed in 0.21. Use max_iter and tol instead.\n",
      "  DeprecationWarning)\n",
      "C:\\Users\\FLORENCIA\\Anaconda\\lib\\site-packages\\sklearn\\linear_model\\stochastic_gradient.py:152: DeprecationWarning: n_iter parameter is deprecated in 0.19 and will be removed in 0.21. Use max_iter and tol instead.\n",
      "  DeprecationWarning)\n",
      "C:\\Users\\FLORENCIA\\Anaconda\\lib\\site-packages\\sklearn\\linear_model\\stochastic_gradient.py:152: DeprecationWarning: n_iter parameter is deprecated in 0.19 and will be removed in 0.21. Use max_iter and tol instead.\n",
      "  DeprecationWarning)\n"
     ]
    },
    {
     "data": {
      "text/plain": [
       "GridSearchCV(cv=5, error_score='raise-deprecating',\n",
       "       estimator=SGDRegressor(alpha=0.0001, average=False, early_stopping=False, epsilon=0.1,\n",
       "       eta0=0.01, fit_intercept=True, l1_ratio=0.15,\n",
       "       learning_rate='invscaling', loss='squared_loss', max_iter=None,\n",
       "       n_iter=1000, n_iter_no_change=5, penalty='l2', power_t=0.25,\n",
       "       random_state=None, shuffle=True, tol=None, validation_fraction=0.1,\n",
       "       verbose=0, warm_start=False),\n",
       "       fit_params=None, iid='warn', n_jobs=None,\n",
       "       param_grid={'alpha': [1e-05, 3e-05, 0.0001], 'eta0': [0.01, 0.03, 0.1]},\n",
       "       pre_dispatch='2*n_jobs', refit=True, return_train_score='warn',\n",
       "       scoring='r2', verbose=0)"
      ]
     },
     "execution_count": 25,
     "metadata": {},
     "output_type": "execute_result"
    }
   ],
   "source": [
    "from sklearn.linear_model import SGDRegressor\n",
    "from sklearn.model_selection import GridSearchCV\n",
    "param_grid = {\"alpha\": [1e-5, 3e-5, 1e-4],\"eta0\": [0.01, 0.03, 0.1],}\n",
    "lr = SGDRegressor(penalty='l2', n_iter=1000)\n",
    "grid_search = GridSearchCV(lr, param_grid, cv=5, scoring='r2')\n",
    "grid_search.fit(X_scaled_train, y_train)"
   ]
  },
  {
   "cell_type": "code",
   "execution_count": 26,
   "metadata": {},
   "outputs": [
    {
     "name": "stdout",
     "output_type": "stream",
     "text": [
      "{'alpha': 3e-05, 'eta0': 0.03}\n"
     ]
    }
   ],
   "source": [
    "print(grid_search.best_params_)\n"
   ]
  },
  {
   "cell_type": "code",
   "execution_count": 27,
   "metadata": {},
   "outputs": [],
   "source": [
    "lr_best = grid_search.best_estimator_\n",
    "predictions_lr = lr_best.predict(X_scaled_test)"
   ]
  },
  {
   "cell_type": "code",
   "execution_count": 28,
   "metadata": {},
   "outputs": [
    {
     "name": "stdout",
     "output_type": "stream",
     "text": [
      "MSE: 4.162\n"
     ]
    }
   ],
   "source": [
    "print('MSE: {0:.3f}'.format(mean_squared_error(y_test, predictions_lr)))\n"
   ]
  },
  {
   "cell_type": "code",
   "execution_count": 29,
   "metadata": {},
   "outputs": [
    {
     "name": "stdout",
     "output_type": "stream",
     "text": [
      "MAE: 1.488\n"
     ]
    }
   ],
   "source": [
    "print('MAE: {0:.3f}'.format(mean_absolute_error(y_test, predictions_lr)))"
   ]
  },
  {
   "cell_type": "code",
   "execution_count": 30,
   "metadata": {},
   "outputs": [
    {
     "name": "stdout",
     "output_type": "stream",
     "text": [
      "R^2: 0.332\n"
     ]
    }
   ],
   "source": [
    "print('R^2: {0:.3f}'.format(r2_score(y_test, predictions_lr)))"
   ]
  },
  {
   "cell_type": "code",
   "execution_count": 31,
   "metadata": {},
   "outputs": [
    {
     "data": {
      "text/plain": [
       "array([181.2039208 , 180.09968735, 177.40374543, 177.01729509,\n",
       "       177.41449456, 179.32423066, 177.61012029, 175.34206501,\n",
       "       176.69524023, 177.86307464, 179.98901725, 181.44554134,\n",
       "       178.68676871])"
      ]
     },
     "execution_count": 31,
     "metadata": {},
     "output_type": "execute_result"
    }
   ],
   "source": [
    "predictions_lr"
   ]
  },
  {
   "cell_type": "code",
   "execution_count": 32,
   "metadata": {},
   "outputs": [
    {
     "data": {
      "text/plain": [
       "array([182.57, 179.08, 175.05, 176.44, 176.67, 175.49, 173.01, 175.1 ,\n",
       "       177.48, 177.92, 180.91, 178.73, 178.81])"
      ]
     },
     "execution_count": 32,
     "metadata": {},
     "output_type": "execute_result"
    }
   ],
   "source": [
    "y_test"
   ]
  },
  {
   "cell_type": "code",
   "execution_count": 33,
   "metadata": {},
   "outputs": [],
   "source": [
    "test=pd.DataFrame(y_test)"
   ]
  },
  {
   "cell_type": "code",
   "execution_count": 34,
   "metadata": {},
   "outputs": [],
   "source": [
    "predictions_lr=pd.DataFrame(predictions_lr)"
   ]
  },
  {
   "cell_type": "code",
   "execution_count": 38,
   "metadata": {},
   "outputs": [],
   "source": [
    "test=test.merge(predictions_lr, left_index=True, right_index=True, how='left')"
   ]
  },
  {
   "cell_type": "code",
   "execution_count": 39,
   "metadata": {},
   "outputs": [],
   "source": [
    "test['Price_Rise'] = np.where(test['0_x'] > test['0_x'].shift(1), 1, 0)\n",
    "test['Price_Rise_modelo'] = np.where(test['0_y'] > test['0_y'].shift(1), 1, 0)"
   ]
  },
  {
   "cell_type": "code",
   "execution_count": 40,
   "metadata": {},
   "outputs": [
    {
     "data": {
      "text/html": [
       "<div>\n",
       "<style scoped>\n",
       "    .dataframe tbody tr th:only-of-type {\n",
       "        vertical-align: middle;\n",
       "    }\n",
       "\n",
       "    .dataframe tbody tr th {\n",
       "        vertical-align: top;\n",
       "    }\n",
       "\n",
       "    .dataframe thead th {\n",
       "        text-align: right;\n",
       "    }\n",
       "</style>\n",
       "<table border=\"1\" class=\"dataframe\">\n",
       "  <thead>\n",
       "    <tr style=\"text-align: right;\">\n",
       "      <th></th>\n",
       "      <th>0_x</th>\n",
       "      <th>0_y</th>\n",
       "      <th>0</th>\n",
       "      <th>Price_Rise</th>\n",
       "      <th>Price_Rise_modelo</th>\n",
       "      <th>Tomorrows Returns</th>\n",
       "    </tr>\n",
       "  </thead>\n",
       "  <tbody>\n",
       "    <tr>\n",
       "      <th>0</th>\n",
       "      <td>182.57</td>\n",
       "      <td>181.203921</td>\n",
       "      <td>181.203921</td>\n",
       "      <td>0</td>\n",
       "      <td>0</td>\n",
       "      <td>NaN</td>\n",
       "    </tr>\n",
       "    <tr>\n",
       "      <th>1</th>\n",
       "      <td>179.08</td>\n",
       "      <td>180.099687</td>\n",
       "      <td>180.099687</td>\n",
       "      <td>0</td>\n",
       "      <td>0</td>\n",
       "      <td>-0.019301</td>\n",
       "    </tr>\n",
       "    <tr>\n",
       "      <th>2</th>\n",
       "      <td>175.05</td>\n",
       "      <td>177.403745</td>\n",
       "      <td>177.403745</td>\n",
       "      <td>0</td>\n",
       "      <td>0</td>\n",
       "      <td>-0.022761</td>\n",
       "    </tr>\n",
       "    <tr>\n",
       "      <th>3</th>\n",
       "      <td>176.44</td>\n",
       "      <td>177.017295</td>\n",
       "      <td>177.017295</td>\n",
       "      <td>1</td>\n",
       "      <td>0</td>\n",
       "      <td>0.007909</td>\n",
       "    </tr>\n",
       "    <tr>\n",
       "      <th>4</th>\n",
       "      <td>176.67</td>\n",
       "      <td>177.414495</td>\n",
       "      <td>177.414495</td>\n",
       "      <td>1</td>\n",
       "      <td>1</td>\n",
       "      <td>0.001303</td>\n",
       "    </tr>\n",
       "    <tr>\n",
       "      <th>5</th>\n",
       "      <td>175.49</td>\n",
       "      <td>179.324231</td>\n",
       "      <td>179.324231</td>\n",
       "      <td>0</td>\n",
       "      <td>1</td>\n",
       "      <td>-0.006702</td>\n",
       "    </tr>\n",
       "    <tr>\n",
       "      <th>6</th>\n",
       "      <td>173.01</td>\n",
       "      <td>177.610120</td>\n",
       "      <td>177.610120</td>\n",
       "      <td>0</td>\n",
       "      <td>0</td>\n",
       "      <td>-0.014233</td>\n",
       "    </tr>\n",
       "    <tr>\n",
       "      <th>7</th>\n",
       "      <td>175.10</td>\n",
       "      <td>175.342065</td>\n",
       "      <td>175.342065</td>\n",
       "      <td>1</td>\n",
       "      <td>0</td>\n",
       "      <td>0.012008</td>\n",
       "    </tr>\n",
       "    <tr>\n",
       "      <th>8</th>\n",
       "      <td>177.48</td>\n",
       "      <td>176.695240</td>\n",
       "      <td>176.695240</td>\n",
       "      <td>1</td>\n",
       "      <td>1</td>\n",
       "      <td>0.013501</td>\n",
       "    </tr>\n",
       "    <tr>\n",
       "      <th>9</th>\n",
       "      <td>177.92</td>\n",
       "      <td>177.863075</td>\n",
       "      <td>177.863075</td>\n",
       "      <td>1</td>\n",
       "      <td>1</td>\n",
       "      <td>0.002476</td>\n",
       "    </tr>\n",
       "    <tr>\n",
       "      <th>10</th>\n",
       "      <td>180.91</td>\n",
       "      <td>179.989017</td>\n",
       "      <td>179.989017</td>\n",
       "      <td>1</td>\n",
       "      <td>1</td>\n",
       "      <td>0.016666</td>\n",
       "    </tr>\n",
       "    <tr>\n",
       "      <th>11</th>\n",
       "      <td>178.73</td>\n",
       "      <td>181.445541</td>\n",
       "      <td>181.445541</td>\n",
       "      <td>0</td>\n",
       "      <td>1</td>\n",
       "      <td>-0.012123</td>\n",
       "    </tr>\n",
       "    <tr>\n",
       "      <th>12</th>\n",
       "      <td>178.81</td>\n",
       "      <td>178.686769</td>\n",
       "      <td>178.686769</td>\n",
       "      <td>1</td>\n",
       "      <td>0</td>\n",
       "      <td>0.000448</td>\n",
       "    </tr>\n",
       "  </tbody>\n",
       "</table>\n",
       "</div>"
      ],
      "text/plain": [
       "       0_x         0_y           0  Price_Rise  Price_Rise_modelo  \\\n",
       "0   182.57  181.203921  181.203921           0                  0   \n",
       "1   179.08  180.099687  180.099687           0                  0   \n",
       "2   175.05  177.403745  177.403745           0                  0   \n",
       "3   176.44  177.017295  177.017295           1                  0   \n",
       "4   176.67  177.414495  177.414495           1                  1   \n",
       "5   175.49  179.324231  179.324231           0                  1   \n",
       "6   173.01  177.610120  177.610120           0                  0   \n",
       "7   175.10  175.342065  175.342065           1                  0   \n",
       "8   177.48  176.695240  176.695240           1                  1   \n",
       "9   177.92  177.863075  177.863075           1                  1   \n",
       "10  180.91  179.989017  179.989017           1                  1   \n",
       "11  178.73  181.445541  181.445541           0                  1   \n",
       "12  178.81  178.686769  178.686769           1                  0   \n",
       "\n",
       "    Tomorrows Returns  \n",
       "0                 NaN  \n",
       "1           -0.019301  \n",
       "2           -0.022761  \n",
       "3            0.007909  \n",
       "4            0.001303  \n",
       "5           -0.006702  \n",
       "6           -0.014233  \n",
       "7            0.012008  \n",
       "8            0.013501  \n",
       "9            0.002476  \n",
       "10           0.016666  \n",
       "11          -0.012123  \n",
       "12           0.000448  "
      ]
     },
     "execution_count": 40,
     "metadata": {},
     "output_type": "execute_result"
    }
   ],
   "source": [
    "#Computing Strategy Returns\n",
    "test['Tomorrows Returns'] = 0\n",
    "test['Tomorrows Returns'] = np.log(test['0_x']/test['0_x'].shift(1))\n",
    "test"
   ]
  },
  {
   "cell_type": "code",
   "execution_count": 41,
   "metadata": {},
   "outputs": [],
   "source": [
    "test['Tomorrows Returns'] = test['Tomorrows Returns'].shift(-1)\n"
   ]
  },
  {
   "cell_type": "code",
   "execution_count": 42,
   "metadata": {},
   "outputs": [],
   "source": [
    "test['Strategy Returns'] = 0.\n",
    "test['Strategy Returns'] = np.where(test['Price_Rise_modelo'] == 1, \n",
    "             test['Tomorrows Returns'], - test['Tomorrows Returns'])\n",
    "\n",
    "test['Cumulative Market Returns'] = np.cumsum(test['Tomorrows Returns'])\n",
    "test['Cumulative Strategy Returns'] = np.cumsum(test['Strategy Returns'])"
   ]
  },
  {
   "cell_type": "code",
   "execution_count": 43,
   "metadata": {},
   "outputs": [
    {
     "data": {
      "image/png": "[encoded data removed]",
      "text/plain": [
       "<Figure size 720x360 with 1 Axes>"
      ]
     },
     "metadata": {
      "needs_background": "light"
     },
     "output_type": "display_data"
    }
   ],
   "source": [
    "#Plotting the graph of returns\n",
    "plt.figure(figsize=(10,5))\n",
    "plt.plot(test['Cumulative Market Returns'], color='r', label='Market Returns')\n",
    "plt.plot(test['Cumulative Strategy Returns'], color='g', label='Strategy Returns')\n",
    "plt.legend()\n",
    "plt.show()"
   ]
  },
  {
   "cell_type": "code",
   "execution_count": null,
   "metadata": {},
   "outputs": [],
   "source": [
    "param_grid = {'hidden_layer_sizes': [(50, 10), (30, 30)],'activation': ['logistic', 'tanh', 'relu'],'solver': ['sgd', 'adam'],\n",
    "'learning_rate_init': [0.0001, 0.0003, 0.001, 0.01],\n",
    "'alpha': [0.00003, 0.0001, 0.0003],\n",
    "'batch_size': [30, 50]}"
   ]
  },
  {
   "cell_type": "code",
   "execution_count": null,
   "metadata": {},
   "outputs": [],
   "source": [
    "from sklearn.neural_network import MLPRegressor\n",
    "nn = MLPRegressor(random_state=42, max_iter=100)\n",
    "grid_search = GridSearchCV(nn, param_grid, cv=5, scoring='r2', n_jobs=-1)\n",
    "grid_search.fit(X_scaled_train, y_train)"
   ]
  },
  {
   "cell_type": "code",
   "execution_count": null,
   "metadata": {},
   "outputs": [],
   "source": [
    "print(grid_search.best_params_)"
   ]
  },
  {
   "cell_type": "code",
   "execution_count": null,
   "metadata": {},
   "outputs": [],
   "source": [
    "nn_best = grid_search.best_estimator_\n",
    "predictions_nn = nn_best.predict(X_scaled_test)"
   ]
  },
  {
   "cell_type": "code",
   "execution_count": null,
   "metadata": {},
   "outputs": [],
   "source": [
    "print('MSE: {0:.3f}'.format(mean_squared_error(y_test, predictions_nn)))"
   ]
  },
  {
   "cell_type": "code",
   "execution_count": null,
   "metadata": {},
   "outputs": [],
   "source": [
    "print('MAE: {0:.3f}'.format(mean_absolute_error(y_test, predictions_nn)))"
   ]
  },
  {
   "cell_type": "code",
   "execution_count": null,
   "metadata": {},
   "outputs": [],
   "source": [
    "print('R^2: {0:.3f}'.format(r2_score(y_test, predictions_nn)))"
   ]
  },
  {
   "cell_type": "code",
   "execution_count": null,
   "metadata": {},
   "outputs": [],
   "source": [
    "predictions_nn"
   ]
  },
  {
   "cell_type": "markdown",
   "metadata": {},
   "source": [
    "##Visualize what was collected with matplotlib\n",
    "# select only close column\n",
    "#del close\n",
    "close = df[['date','close']]\n",
    "# rename the column with symbole name\n",
    "close = close.rename(columns={'close': symbol})\n",
    "ax = close.plot(title='symbol')\n",
    "ax.set_xlabel('date')\n",
    "ax.set_ylabel('close price')\n",
    "ax.grid()\n",
    "plt.show()\n",
    "\n",
    "close.set_index('Date', inplace=True)\n",
    "\n",
    "close.index = pd.to_datetime(close.index)"
   ]
  },
  {
   "cell_type": "markdown",
   "metadata": {},
   "source": [
    "# read csv file, use date as index and read close as a column\n",
    "nfl = pd.read_csv('~/Dropbox/{}.csv'.format(symbol), index_col='date',\n",
    "                 parse_dates=True, usecols=['date', 'close'],\n",
    "                 na_values='nan')"
   ]
  },
  {
   "cell_type": "code",
   "execution_count": null,
   "metadata": {},
   "outputs": [],
   "source": [
    "df.index = pd.to_datetime(df.index)"
   ]
  },
  {
   "cell_type": "code",
   "execution_count": null,
   "metadata": {},
   "outputs": [],
   "source": [
    "monthly_prices = df.resample('M').last()"
   ]
  },
  {
   "cell_type": "code",
   "execution_count": null,
   "metadata": {},
   "outputs": [],
   "source": [
    "data.head()"
   ]
  },
  {
   "cell_type": "code",
   "execution_count": null,
   "metadata": {},
   "outputs": [],
   "source": [
    "#del data\n",
    "outlier_cutoff = 0.01\n",
    "mes = pd.DataFrame()\n",
    "lags = [1, 2, 3, 6, 9, 12]\n",
    "for lag in lags:\n",
    "    mes[f'return_{lag}m'] = (monthly_prices\n",
    "                           .pct_change(lag)\n",
    "                           .stack()\n",
    "                           .pipe(lambda x: x.clip(lower=x.quantile(outlier_cutoff),\n",
    "                                                  upper=x.quantile(1-outlier_cutoff)))\n",
    "                           .add(1)\n",
    "                           .pow(1/lag)\n",
    "                           .sub(1)\n",
    "                           )\n",
    "#data = data.swaplevel().dropna()\n",
    "mes.info()\n"
   ]
  },
  {
   "cell_type": "code",
   "execution_count": null,
   "metadata": {},
   "outputs": [],
   "source": [
    "mes.add(1).pow(1/lag).sub(1).head()\n",
    "            "
   ]
  },
  {
   "cell_type": "code",
   "execution_count": null,
   "metadata": {},
   "outputs": [],
   "source": [
    "data.head()"
   ]
  },
  {
   "cell_type": "code",
   "execution_count": null,
   "metadata": {},
   "outputs": [],
   "source": [
    "mes.reset_index(inplace=True)\n",
    "mes.set_index('date', inplace=True)"
   ]
  },
  {
   "cell_type": "markdown",
   "metadata": {},
   "source": [
    "The five Fama—French factors, namely market risk, size, value, operating profitability, and investment have been shown \n",
    "empirically to explain asset returns and are commonly used to assess the risk/return profile of portfolios. \n",
    "Hence, it is natural to include past factor exposures as financial features in models that aim to predict future returns."
   ]
  },
  {
   "cell_type": "code",
   "execution_count": null,
   "metadata": {},
   "outputs": [],
   "source": [
    "from pandas_datareader.famafrench import get_available_datasets\n",
    "\n",
    "get_available_datasets()"
   ]
  },
  {
   "cell_type": "code",
   "execution_count": null,
   "metadata": {},
   "outputs": [],
   "source": [
    "#del factor_data\n",
    "factors = ['Mkt-RF', 'SMB', 'HML', 'RMW', 'CMA']\n",
    "factor_data = web.DataReader('F-F_Research_Data_5_Factors_2x3_daily', 'famafrench', start='1980')[0].drop('RF', axis=1)\n",
    "#factor_data.index = factor_data.index.to_timestamp()\n",
    "#factor_data = factor_data.resample('M').last().div(100) # lo paso a menual\n",
    "#factor_data.index.name = 'date'\n",
    "factor_data.info()"
   ]
  },
  {
   "cell_type": "code",
   "execution_count": null,
   "metadata": {},
   "outputs": [],
   "source": [
    "factor_data.head()"
   ]
  },
  {
   "cell_type": "code",
   "execution_count": null,
   "metadata": {},
   "outputs": [],
   "source": [
    "factor_data = factor_data.join(data['return_1']).sort_index() #agrego los retornos mensuales\n",
    "factor_data.info()"
   ]
  },
  {
   "cell_type": "code",
   "execution_count": null,
   "metadata": {},
   "outputs": [],
   "source": [
    "nulls(factor_data)"
   ]
  },
  {
   "cell_type": "code",
   "execution_count": null,
   "metadata": {},
   "outputs": [],
   "source": [
    "factor_data.dropna(inplace=True)"
   ]
  },
  {
   "cell_type": "code",
   "execution_count": null,
   "metadata": {},
   "outputs": [],
   "source": [
    "factor_data.head()"
   ]
  },
  {
   "cell_type": "markdown",
   "metadata": {},
   "source": [
    "We can access the historical factor returns using the pandas-datareader and estimate historical exposures using \n",
    "the PandasRollingOLS rolling linear regression functionality in the pyfinance library as follows"
   ]
  },
  {
   "cell_type": "code",
   "execution_count": null,
   "metadata": {},
   "outputs": [],
   "source": [
    "#analizo la importancia de los factores sobre la variación mensual de la acción, durante los 12 meses anteriores\n",
    "from pyfinance.ols import PandasRollingOLS\n",
    "T=30\n",
    "y=factor_data.return_1"
   ]
  },
  {
   "cell_type": "code",
   "execution_count": null,
   "metadata": {},
   "outputs": [],
   "source": [
    "X=factor_data.drop('return_1', axis=1)"
   ]
  },
  {
   "cell_type": "code",
   "execution_count": null,
   "metadata": {},
   "outputs": [],
   "source": [
    "rolling = PandasRollingOLS(y=y, x=X, window=T)"
   ]
  },
  {
   "cell_type": "code",
   "execution_count": null,
   "metadata": {},
   "outputs": [],
   "source": [
    "#del betas\n",
    "betas=rolling.beta"
   ]
  },
  {
   "cell_type": "code",
   "execution_count": null,
   "metadata": {},
   "outputs": [],
   "source": [
    "betas.describe().join(betas.sum(1).describe().to_frame('total'))"
   ]
  },
  {
   "cell_type": "code",
   "execution_count": null,
   "metadata": {},
   "outputs": [],
   "source": [
    "betas.reset_index(inplace=True)"
   ]
  },
  {
   "cell_type": "code",
   "execution_count": null,
   "metadata": {},
   "outputs": [],
   "source": [
    "betas.rename(columns={'Date':'date'}, inplace=True)"
   ]
  },
  {
   "cell_type": "code",
   "execution_count": null,
   "metadata": {},
   "outputs": [],
   "source": [
    "betas.set_index('date', inplace=True)"
   ]
  },
  {
   "cell_type": "markdown",
   "metadata": {},
   "source": [
    "betas=betas.shift()\n",
    "betas.head()"
   ]
  },
  {
   "cell_type": "code",
   "execution_count": null,
   "metadata": {},
   "outputs": [],
   "source": [
    "data = data.join(betas)\n",
    "data.head()"
   ]
  },
  {
   "cell_type": "code",
   "execution_count": null,
   "metadata": {},
   "outputs": [],
   "source": [
    "nulls(data)"
   ]
  },
  {
   "cell_type": "markdown",
   "metadata": {},
   "source": [
    "#Impute mean for missing factor betas\n",
    "data.loc[:, factors] = data[factors].apply(lambda x: x.fillna('backfill', x.mean()))\n",
    "\n",
    "data.info()"
   ]
  },
  {
   "cell_type": "code",
   "execution_count": null,
   "metadata": {},
   "outputs": [],
   "source": [
    "data.fillna(method='backfill', inplace=True)\n",
    "data.fillna(method='pad', inplace=True)\n"
   ]
  },
  {
   "cell_type": "markdown",
   "metadata": {},
   "source": [
    "Momentum factors\n",
    "We can use these results to compute momentum factors based on the difference between returns over longer periods and the most recent monthly return, \n",
    "as well as for the difference between 3 and 12 month returns as follows:"
   ]
  },
  {
   "cell_type": "markdown",
   "metadata": {},
   "source": [
    "for lag in [2,3,6,9,12]:\n",
    "    data[f'momentum_{lag}'] = data[f'return_{lag}m'].sub(data.return_1m)\n",
    "data[f'momentum_3_12'] = data[f'return_12m'].sub(data.return_3m)"
   ]
  },
  {
   "cell_type": "code",
   "execution_count": null,
   "metadata": {},
   "outputs": [],
   "source": [
    "data.tail()"
   ]
  },
  {
   "cell_type": "markdown",
   "metadata": {},
   "source": [
    "#Date Indicators\n",
    "dates = data.index.get_level_values('Date')\n",
    "data['year'] = dates.year\n",
    "data['month'] = dates.month"
   ]
  },
  {
   "cell_type": "markdown",
   "metadata": {},
   "source": [
    "Lagged returns\n",
    "To use lagged values as input variables or features associated with the current observations, \n",
    "we use the .shift() method to move historical returns up to the current period:"
   ]
  },
  {
   "cell_type": "code",
   "execution_count": null,
   "metadata": {},
   "outputs": [],
   "source": [
    "for t in range(1, 7):\n",
    "    data[f'return_1m_t-{t}'] = data.return_1m.shift(t)\n",
    "data.info()"
   ]
  },
  {
   "cell_type": "markdown",
   "metadata": {},
   "source": [
    "Target: Holding Period Returns\n",
    "Similarly, to compute returns for various holding periods, we use the normalized period returns computed previously \n",
    "and shift them back to align them with the current financial features"
   ]
  },
  {
   "cell_type": "markdown",
   "metadata": {},
   "source": [
    "cols = ['target_1m',\n",
    "        'target_2m',\n",
    "        'target_3m', 'return_1m',\n",
    "        'return_2m',\n",
    "        'return_3m',\n",
    "        'return_1m_t-1',\n",
    "        'return_1m_t-2',\n",
    "        'return_1m_t-3']\n",
    "\n",
    "data[cols].dropna().sort_index().head(10)"
   ]
  },
  {
   "cell_type": "markdown",
   "metadata": {},
   "source": [
    "data.dropna(inplace=True)"
   ]
  },
  {
   "cell_type": "markdown",
   "metadata": {},
   "source": [
    "data.info()"
   ]
  },
  {
   "cell_type": "markdown",
   "metadata": {},
   "source": [
    "data.reset_index(inplace=True)"
   ]
  },
  {
   "cell_type": "markdown",
   "metadata": {},
   "source": [
    "data.drop(columns=['level_1'], inplace=True)"
   ]
  },
  {
   "cell_type": "markdown",
   "metadata": {},
   "source": [
    "data = pd.get_dummies(data, columns=['year', 'month'])"
   ]
  },
  {
   "cell_type": "markdown",
   "metadata": {},
   "source": [
    "data.set_index('date', inplace=True)"
   ]
  },
  {
   "cell_type": "code",
   "execution_count": null,
   "metadata": {},
   "outputs": [],
   "source": [
    "data.to_csv(\"~/Dropbox/{}.csv\".format(symbol+'mod'))"
   ]
  },
  {
   "cell_type": "code",
   "execution_count": null,
   "metadata": {},
   "outputs": [],
   "source": [
    "del y\n",
    "del X"
   ]
  },
  {
   "cell_type": "code",
   "execution_count": 44,
   "metadata": {},
   "outputs": [],
   "source": [
    "y = data.close\n",
    "y_binary = (y > 0).astype(int)\n",
    "X = data.drop(columns=['close'])"
   ]
  },
  {
   "cell_type": "code",
   "execution_count": 45,
   "metadata": {},
   "outputs": [],
   "source": [
    "from sklearn.tree import DecisionTreeRegressor, DecisionTreeClassifier\n",
    "from sklearn.ensemble import RandomForestRegressor, RandomForestClassifier, BaggingClassifier, BaggingRegressor\n",
    "from sklearn.model_selection import train_test_split, cross_val_score, GridSearchCV, cross_val_score\n",
    "from sklearn.metrics import roc_auc_score, roc_curve, mean_squared_error, precision_recall_curve\n",
    "from sklearn.externals import joblib\n",
    "from sklearn.model_selection import cross_val_score, cross_validate\n"
   ]
  },
  {
   "cell_type": "markdown",
   "metadata": {},
   "source": [
    "### Get Holdout Set\n",
    "#### Create holdout test set to estimate generalization error after cross-validation:"
   ]
  },
  {
   "cell_type": "code",
   "execution_count": 46,
   "metadata": {},
   "outputs": [],
   "source": [
    "def get_holdout_set(target, features, period=30):\n",
    "    idx = pd.IndexSlice\n",
    "    label = target.name\n",
    "    dates = np.sort(y.index.get_level_values('date').unique())\n",
    "    cv_start, cv_end = dates[0], dates[-period - 2]\n",
    "    holdout_start, holdout_end = dates[-period - 1], dates[-1]\n",
    "\n",
    "    df = features.join(target.to_frame())\n",
    "    train = df.loc[idx[cv_start: cv_end], :]\n",
    "    y_train, X_train = train[label], train.drop(label, axis=1)\n",
    "\n",
    "    test = df.loc[idx[holdout_start: holdout_end], :]\n",
    "    y_test, X_test = test[label], test.drop(label, axis=1)\n",
    "    return y_train, X_train, y_test, X_test"
   ]
  },
  {
   "cell_type": "markdown",
   "metadata": {},
   "source": [
    "y, X, y_test, X_test = get_holdout_set(target=y,\n",
    "                                       features=X)"
   ]
  },
  {
   "cell_type": "code",
   "execution_count": 47,
   "metadata": {},
   "outputs": [],
   "source": [
    "y_train, X_train, y_test, X_test= get_holdout_set(y, X, 12)"
   ]
  },
  {
   "cell_type": "code",
   "execution_count": 48,
   "metadata": {},
   "outputs": [
    {
     "data": {
      "text/html": [
       "<div>\n",
       "<style scoped>\n",
       "    .dataframe tbody tr th:only-of-type {\n",
       "        vertical-align: middle;\n",
       "    }\n",
       "\n",
       "    .dataframe tbody tr th {\n",
       "        vertical-align: top;\n",
       "    }\n",
       "\n",
       "    .dataframe thead th {\n",
       "        text-align: right;\n",
       "    }\n",
       "</style>\n",
       "<table border=\"1\" class=\"dataframe\">\n",
       "  <thead>\n",
       "    <tr style=\"text-align: right;\">\n",
       "      <th></th>\n",
       "      <th>open</th>\n",
       "      <th>open_1</th>\n",
       "      <th>close_1</th>\n",
       "      <th>high_1</th>\n",
       "      <th>low_1</th>\n",
       "      <th>volume_1</th>\n",
       "      <th>H-L</th>\n",
       "      <th>O-C</th>\n",
       "      <th>avg_price_5</th>\n",
       "      <th>avg_price_30</th>\n",
       "      <th>...</th>\n",
       "      <th>ratio_std_volume_5_365</th>\n",
       "      <th>ratio_std_volume_30_365</th>\n",
       "      <th>return_1</th>\n",
       "      <th>return_5</th>\n",
       "      <th>return_30</th>\n",
       "      <th>return_365</th>\n",
       "      <th>moving_avg_5</th>\n",
       "      <th>moving_avg_30</th>\n",
       "      <th>moving_avg_365</th>\n",
       "      <th>Price_Rise</th>\n",
       "    </tr>\n",
       "    <tr>\n",
       "      <th>date</th>\n",
       "      <th></th>\n",
       "      <th></th>\n",
       "      <th></th>\n",
       "      <th></th>\n",
       "      <th></th>\n",
       "      <th></th>\n",
       "      <th></th>\n",
       "      <th></th>\n",
       "      <th></th>\n",
       "      <th></th>\n",
       "      <th></th>\n",
       "      <th></th>\n",
       "      <th></th>\n",
       "      <th></th>\n",
       "      <th></th>\n",
       "      <th></th>\n",
       "      <th></th>\n",
       "      <th></th>\n",
       "      <th></th>\n",
       "      <th></th>\n",
       "      <th></th>\n",
       "    </tr>\n",
       "  </thead>\n",
       "  <tbody>\n",
       "    <tr>\n",
       "      <th>2015-01-22</th>\n",
       "      <td>69.49</td>\n",
       "      <td>NaN</td>\n",
       "      <td>NaN</td>\n",
       "      <td>NaN</td>\n",
       "      <td>NaN</td>\n",
       "      <td>NaN</td>\n",
       "      <td>NaN</td>\n",
       "      <td>NaN</td>\n",
       "      <td>NaN</td>\n",
       "      <td>NaN</td>\n",
       "      <td>...</td>\n",
       "      <td>NaN</td>\n",
       "      <td>NaN</td>\n",
       "      <td>NaN</td>\n",
       "      <td>NaN</td>\n",
       "      <td>NaN</td>\n",
       "      <td>NaN</td>\n",
       "      <td>NaN</td>\n",
       "      <td>NaN</td>\n",
       "      <td>NaN</td>\n",
       "      <td>0</td>\n",
       "    </tr>\n",
       "    <tr>\n",
       "      <th>2015-01-23</th>\n",
       "      <td>66.58</td>\n",
       "      <td>69.49</td>\n",
       "      <td>70.95</td>\n",
       "      <td>71.13</td>\n",
       "      <td>68.68</td>\n",
       "      <td>2274474.0</td>\n",
       "      <td>2.45</td>\n",
       "      <td>1.46</td>\n",
       "      <td>NaN</td>\n",
       "      <td>NaN</td>\n",
       "      <td>...</td>\n",
       "      <td>NaN</td>\n",
       "      <td>NaN</td>\n",
       "      <td>NaN</td>\n",
       "      <td>NaN</td>\n",
       "      <td>NaN</td>\n",
       "      <td>NaN</td>\n",
       "      <td>NaN</td>\n",
       "      <td>NaN</td>\n",
       "      <td>NaN</td>\n",
       "      <td>0</td>\n",
       "    </tr>\n",
       "    <tr>\n",
       "      <th>2015-01-26</th>\n",
       "      <td>64.88</td>\n",
       "      <td>66.58</td>\n",
       "      <td>65.24</td>\n",
       "      <td>67.50</td>\n",
       "      <td>65.12</td>\n",
       "      <td>5466770.0</td>\n",
       "      <td>2.38</td>\n",
       "      <td>-1.34</td>\n",
       "      <td>NaN</td>\n",
       "      <td>NaN</td>\n",
       "      <td>...</td>\n",
       "      <td>NaN</td>\n",
       "      <td>NaN</td>\n",
       "      <td>-0.080479</td>\n",
       "      <td>NaN</td>\n",
       "      <td>NaN</td>\n",
       "      <td>NaN</td>\n",
       "      <td>NaN</td>\n",
       "      <td>NaN</td>\n",
       "      <td>NaN</td>\n",
       "      <td>1</td>\n",
       "    </tr>\n",
       "    <tr>\n",
       "      <th>2015-01-27</th>\n",
       "      <td>63.86</td>\n",
       "      <td>64.88</td>\n",
       "      <td>65.44</td>\n",
       "      <td>65.70</td>\n",
       "      <td>64.18</td>\n",
       "      <td>3084662.0</td>\n",
       "      <td>1.52</td>\n",
       "      <td>0.56</td>\n",
       "      <td>NaN</td>\n",
       "      <td>NaN</td>\n",
       "      <td>...</td>\n",
       "      <td>NaN</td>\n",
       "      <td>NaN</td>\n",
       "      <td>0.003066</td>\n",
       "      <td>NaN</td>\n",
       "      <td>NaN</td>\n",
       "      <td>NaN</td>\n",
       "      <td>NaN</td>\n",
       "      <td>NaN</td>\n",
       "      <td>NaN</td>\n",
       "      <td>0</td>\n",
       "    </tr>\n",
       "    <tr>\n",
       "      <th>2015-01-28</th>\n",
       "      <td>64.01</td>\n",
       "      <td>63.86</td>\n",
       "      <td>63.34</td>\n",
       "      <td>64.18</td>\n",
       "      <td>63.01</td>\n",
       "      <td>2535142.0</td>\n",
       "      <td>1.17</td>\n",
       "      <td>-0.52</td>\n",
       "      <td>NaN</td>\n",
       "      <td>NaN</td>\n",
       "      <td>...</td>\n",
       "      <td>NaN</td>\n",
       "      <td>NaN</td>\n",
       "      <td>-0.032090</td>\n",
       "      <td>NaN</td>\n",
       "      <td>NaN</td>\n",
       "      <td>NaN</td>\n",
       "      <td>NaN</td>\n",
       "      <td>NaN</td>\n",
       "      <td>NaN</td>\n",
       "      <td>0</td>\n",
       "    </tr>\n",
       "  </tbody>\n",
       "</table>\n",
       "<p>5 rows × 40 columns</p>\n",
       "</div>"
      ],
      "text/plain": [
       "             open  open_1  close_1  high_1  low_1   volume_1   H-L   O-C  \\\n",
       "date                                                                       \n",
       "2015-01-22  69.49     NaN      NaN     NaN    NaN        NaN   NaN   NaN   \n",
       "2015-01-23  66.58   69.49    70.95   71.13  68.68  2274474.0  2.45  1.46   \n",
       "2015-01-26  64.88   66.58    65.24   67.50  65.12  5466770.0  2.38 -1.34   \n",
       "2015-01-27  63.86   64.88    65.44   65.70  64.18  3084662.0  1.52  0.56   \n",
       "2015-01-28  64.01   63.86    63.34   64.18  63.01  2535142.0  1.17 -0.52   \n",
       "\n",
       "            avg_price_5  avg_price_30  ...  ratio_std_volume_5_365  \\\n",
       "date                                   ...                           \n",
       "2015-01-22          NaN           NaN  ...                     NaN   \n",
       "2015-01-23          NaN           NaN  ...                     NaN   \n",
       "2015-01-26          NaN           NaN  ...                     NaN   \n",
       "2015-01-27          NaN           NaN  ...                     NaN   \n",
       "2015-01-28          NaN           NaN  ...                     NaN   \n",
       "\n",
       "            ratio_std_volume_30_365  return_1  return_5  return_30  \\\n",
       "date                                                                 \n",
       "2015-01-22                      NaN       NaN       NaN        NaN   \n",
       "2015-01-23                      NaN       NaN       NaN        NaN   \n",
       "2015-01-26                      NaN -0.080479       NaN        NaN   \n",
       "2015-01-27                      NaN  0.003066       NaN        NaN   \n",
       "2015-01-28                      NaN -0.032090       NaN        NaN   \n",
       "\n",
       "            return_365  moving_avg_5  moving_avg_30  moving_avg_365  \\\n",
       "date                                                                  \n",
       "2015-01-22         NaN           NaN            NaN             NaN   \n",
       "2015-01-23         NaN           NaN            NaN             NaN   \n",
       "2015-01-26         NaN           NaN            NaN             NaN   \n",
       "2015-01-27         NaN           NaN            NaN             NaN   \n",
       "2015-01-28         NaN           NaN            NaN             NaN   \n",
       "\n",
       "            Price_Rise  \n",
       "date                    \n",
       "2015-01-22           0  \n",
       "2015-01-23           0  \n",
       "2015-01-26           1  \n",
       "2015-01-27           0  \n",
       "2015-01-28           0  \n",
       "\n",
       "[5 rows x 40 columns]"
      ]
     },
     "execution_count": 48,
     "metadata": {},
     "output_type": "execute_result"
    }
   ],
   "source": [
    "X.head()"
   ]
  },
  {
   "cell_type": "markdown",
   "metadata": {},
   "source": [
    "### Custom KFold\n",
    "OneStepTimeSeriesSplit ensures a split of training and validation sets that avoids a\n",
    "lookahead bias by training models using only data up to period T-1 for each stock when\n",
    "validating using data for month T. We will only use one-step-ahead forecasts."
   ]
  },
  {
   "cell_type": "code",
   "execution_count": null,
   "metadata": {},
   "outputs": [],
   "source": [
    "class OneStepTimeSeriesSplit:\n",
    "    \"\"\"Generates tuples of train_idx, test_idx pairs\n",
    "    Assumes the index contains a level labeled 'date'\"\"\"\n",
    "\n",
    "    def __init__(self, n_splits=3, test_period_length=1, shuffle=False):\n",
    "        self.n_splits = n_splits\n",
    "        self.test_period_length = test_period_length\n",
    "        self.shuffle = shuffle\n",
    "\n",
    "    @staticmethod\n",
    "    def chunks(l, n):\n",
    "        for i in range(0, len(l), n):\n",
    "            yield l[i:i + n]\n",
    "\n",
    "    def split(self, X_train, y_train=None, groups=None):\n",
    "        unique_dates = (X_train.index\n",
    "                        .get_level_values('date')\n",
    "                        .unique()\n",
    "                        .sort_values(ascending=False)\n",
    "                        [:self.n_splits*self.test_period_length])\n",
    "\n",
    "        dates = X_train.reset_index()[['date']]\n",
    "        for test_date in self.chunks(unique_dates, self.test_period_length):\n",
    "            train_idx = dates[dates.date < min(test_date)].index\n",
    "            test_idx = dates[dates.date.isin(test_date)].index\n",
    "            if self.shuffle:\n",
    "                np.random.shuffle(list(train_idx))\n",
    "            yield train_idx, test_idx\n",
    "        \n",
    "    def get_n_splits(self, X_train, y_train, groups=None):\n",
    "        return self.n_splits"
   ]
  },
  {
   "cell_type": "code",
   "execution_count": null,
   "metadata": {},
   "outputs": [],
   "source": [
    "cv = OneStepTimeSeriesSplit(n_splits=12, test_period_length=1, shuffle=True)"
   ]
  },
  {
   "cell_type": "markdown",
   "metadata": {},
   "source": [
    "## CV Metrics\n",
    "### Define some metrics for use with cross-validation:\n"
   ]
  },
  {
   "cell_type": "code",
   "execution_count": null,
   "metadata": {},
   "outputs": [],
   "source": [
    "metrics = {'neg_mean_squared_error':'MSE',\n",
    "           'r2': 'R2',\n",
    "            'neg_median_absolute_error':'MAE'\n",
    "          }"
   ]
  },
  {
   "cell_type": "code",
   "execution_count": null,
   "metadata": {},
   "outputs": [],
   "source": [
    "def run_cv(clf, y=y, metrics=metrics, cv=cv, fit_params=None):\n",
    "    return cross_validate(estimator=clf,\n",
    "                          X=X,\n",
    "                          y=y,\n",
    "                          scoring=list(metrics.keys()),\n",
    "                          cv=cv,\n",
    "                          return_train_score=True,\n",
    "                          n_jobs=-1,\n",
    "                          verbose=1,\n",
    "                          fit_params=fit_params)"
   ]
  },
  {
   "cell_type": "code",
   "execution_count": null,
   "metadata": {},
   "outputs": [],
   "source": [
    "def stack_results(scores):\n",
    "    columns = pd.MultiIndex.from_tuples(\n",
    "        [tuple(m.split('_', 1)) for m in scores.keys()],\n",
    "        names=['Dataset', 'Metric'])\n",
    "    data = np.array(list(scores.values())).T\n",
    "    df = (pd.DataFrame(data=data,\n",
    "                       columns=columns)\n",
    "          .iloc[:, 2:])\n",
    "    results = pd.melt(df, value_name='Value')\n",
    "    results.Metric = results.Metric.apply(lambda x: metrics.get(x))\n",
    "    results.Dataset = results.Dataset.str.capitalize()\n",
    "    return results"
   ]
  },
  {
   "cell_type": "markdown",
   "metadata": {},
   "source": [
    "def regression_benchmark():\n",
    "    rmse = []\n",
    "    for train_idx, test_idx in cv.split(X):\n",
    "        mean = y.iloc[train_idx].mean()\n",
    "        test = y.iloc[test_idx].to_frame('y_test').assign(y_pred=mean)\n",
    "        rmse.append(np.sqrt(mean_squared_error(test.y_test, test.y_pred))) \n",
    "    return np.mean(rmse)"
   ]
  },
  {
   "cell_type": "markdown",
   "metadata": {},
   "source": [
    "predictions = predict(X_test, weights)\n",
    "import matplotlib.pyplot as plt\n",
    "    plt.scatter(X_train[:, 0], y_train, marker='o', c='b')\n",
    "    plt.scatter(X_test[:, 0], predictions, marker='*', c='k')\n",
    "    plt.xlabel('x')\n",
    "    plt.ylabel('y')\n",
    "    plt.show()"
   ]
  },
  {
   "cell_type": "markdown",
   "metadata": {},
   "source": [
    "### Random forest Regression¶\n"
   ]
  },
  {
   "cell_type": "code",
   "execution_count": 50,
   "metadata": {},
   "outputs": [],
   "source": [
    "rf_reg = RandomForestRegressor(n_estimators=10, \n",
    "                                max_depth=None, \n",
    "                                min_samples_split=2, \n",
    "                                min_samples_leaf=1, \n",
    "                                min_weight_fraction_leaf=0.0, \n",
    "                                max_features='auto', \n",
    "                                max_leaf_nodes=None, \n",
    "                                min_impurity_decrease=0.0, \n",
    "                                min_impurity_split=None, \n",
    "                                bootstrap=True, \n",
    "                                oob_score=False, \n",
    "                                n_jobs=-1, \n",
    "                                random_state=None, \n",
    "                                verbose=0, \n",
    "                                warm_start=False)"
   ]
  },
  {
   "cell_type": "code",
   "execution_count": 51,
   "metadata": {},
   "outputs": [],
   "source": [
    "from pathlib import Path\n",
    "results_path = Path('results')\n",
    "if not results_path.exists():\n",
    "    results_path.mkdir(exist_ok=True)"
   ]
  },
  {
   "cell_type": "code",
   "execution_count": 52,
   "metadata": {},
   "outputs": [
    {
     "ename": "NameError",
     "evalue": "name 'run_cv' is not defined",
     "output_type": "error",
     "traceback": [
      "\u001b[1;31m---------------------------------------------------------------------------\u001b[0m",
      "\u001b[1;31mNameError\u001b[0m                                 Traceback (most recent call last)",
      "\u001b[1;32m<ipython-input-52-b987b1c4fa5a>\u001b[0m in \u001b[0;36m<module>\u001b[1;34m\u001b[0m\n\u001b[0;32m      1\u001b[0m \u001b[0mfname\u001b[0m \u001b[1;33m=\u001b[0m \u001b[1;34m'results/rf_cv_result.joblib'\u001b[0m\u001b[1;33m\u001b[0m\u001b[1;33m\u001b[0m\u001b[0m\n\u001b[0;32m      2\u001b[0m \u001b[1;32mif\u001b[0m \u001b[1;32mnot\u001b[0m \u001b[0mPath\u001b[0m\u001b[1;33m(\u001b[0m\u001b[0mfname\u001b[0m\u001b[1;33m)\u001b[0m\u001b[1;33m.\u001b[0m\u001b[0mexists\u001b[0m\u001b[1;33m(\u001b[0m\u001b[1;33m)\u001b[0m\u001b[1;33m:\u001b[0m\u001b[1;33m\u001b[0m\u001b[1;33m\u001b[0m\u001b[0m\n\u001b[1;32m----> 3\u001b[1;33m     \u001b[0mrf_cv_result\u001b[0m \u001b[1;33m=\u001b[0m \u001b[0mrun_cv\u001b[0m\u001b[1;33m(\u001b[0m\u001b[0mrf_reg\u001b[0m\u001b[1;33m,\u001b[0m \u001b[0my\u001b[0m\u001b[1;33m=\u001b[0m\u001b[0my_train\u001b[0m\u001b[1;33m)\u001b[0m\u001b[1;33m\u001b[0m\u001b[1;33m\u001b[0m\u001b[0m\n\u001b[0m\u001b[0;32m      4\u001b[0m     \u001b[0mjoblib\u001b[0m\u001b[1;33m.\u001b[0m\u001b[0mdump\u001b[0m\u001b[1;33m(\u001b[0m\u001b[0mrf_cv_result\u001b[0m\u001b[1;33m,\u001b[0m \u001b[0mfname\u001b[0m\u001b[1;33m)\u001b[0m\u001b[1;33m\u001b[0m\u001b[1;33m\u001b[0m\u001b[0m\n\u001b[0;32m      5\u001b[0m \u001b[1;32melse\u001b[0m\u001b[1;33m:\u001b[0m\u001b[1;33m\u001b[0m\u001b[1;33m\u001b[0m\u001b[0m\n",
      "\u001b[1;31mNameError\u001b[0m: name 'run_cv' is not defined"
     ]
    }
   ],
   "source": [
    "fname = 'results/rf_cv_result.joblib'\n",
    "if not Path(fname).exists():\n",
    "    rf_cv_result = run_cv(rf_reg, y=y_train)\n",
    "    joblib.dump(rf_cv_result, fname)\n",
    "else:\n",
    "    rf_cv_result = joblib.load(fname)\n"
   ]
  },
  {
   "cell_type": "code",
   "execution_count": 53,
   "metadata": {},
   "outputs": [
    {
     "ename": "NameError",
     "evalue": "name 'stack_results' is not defined",
     "output_type": "error",
     "traceback": [
      "\u001b[1;31m---------------------------------------------------------------------------\u001b[0m",
      "\u001b[1;31mNameError\u001b[0m                                 Traceback (most recent call last)",
      "\u001b[1;32m<ipython-input-53-f1ebc7fc9bf5>\u001b[0m in \u001b[0;36m<module>\u001b[1;34m\u001b[0m\n\u001b[1;32m----> 1\u001b[1;33m \u001b[0mrf_result\u001b[0m \u001b[1;33m=\u001b[0m \u001b[0mstack_results\u001b[0m\u001b[1;33m(\u001b[0m\u001b[0mrf_cv_result\u001b[0m\u001b[1;33m)\u001b[0m\u001b[1;33m\u001b[0m\u001b[1;33m\u001b[0m\u001b[0m\n\u001b[0m\u001b[0;32m      2\u001b[0m \u001b[0mrf_result\u001b[0m\u001b[1;33m.\u001b[0m\u001b[0mgroupby\u001b[0m\u001b[1;33m(\u001b[0m\u001b[1;33m[\u001b[0m\u001b[1;34m'Metric'\u001b[0m\u001b[1;33m,\u001b[0m \u001b[1;34m'Dataset'\u001b[0m\u001b[1;33m]\u001b[0m\u001b[1;33m)\u001b[0m\u001b[1;33m.\u001b[0m\u001b[0mValue\u001b[0m\u001b[1;33m.\u001b[0m\u001b[0mmean\u001b[0m\u001b[1;33m(\u001b[0m\u001b[1;33m)\u001b[0m\u001b[1;33m.\u001b[0m\u001b[0munstack\u001b[0m\u001b[1;33m(\u001b[0m\u001b[1;33m)\u001b[0m\u001b[1;33m\u001b[0m\u001b[1;33m\u001b[0m\u001b[0m\n",
      "\u001b[1;31mNameError\u001b[0m: name 'stack_results' is not defined"
     ]
    }
   ],
   "source": [
    "rf_result = stack_results(rf_cv_result)\n",
    "rf_result.groupby(['Metric', 'Dataset']).Value.mean().unstack()"
   ]
  },
  {
   "cell_type": "code",
   "execution_count": null,
   "metadata": {},
   "outputs": [],
   "source": [
    "rf_reg.fit(y=y_train, X=X_train)"
   ]
  },
  {
   "cell_type": "markdown",
   "metadata": {},
   "source": [
    "### Feature Importance"
   ]
  },
  {
   "cell_type": "code",
   "execution_count": null,
   "metadata": {},
   "outputs": [],
   "source": [
    "(pd.Series(rf_reg.feature_importances_, \n",
    "          index=X.columns)\n",
    " .sort_values(ascending=False)\n",
    " .head(15)).sort_values().plot.barh(title='Feature Importance');"
   ]
  },
  {
   "cell_type": "code",
   "execution_count": null,
   "metadata": {},
   "outputs": [],
   "source": [
    "predicted_test = rf_reg.predict(X_test)"
   ]
  },
  {
   "cell_type": "code",
   "execution_count": null,
   "metadata": {},
   "outputs": [],
   "source": [
    "print('Error del modelo=', calculate_error(y_test, predicted_test))\n",
    "print('RMSE del modelo=',np.sqrt(mse((y_test), predicted_test)))\n",
    "print('Median Error del modelo=', median_error(y_test, predicted_test))\n",
    "print('R2=', r2(y_test, predicted_test))\n",
    "print('variance_score=', variance_score(y_test, predicted_test))"
   ]
  },
  {
   "cell_type": "code",
   "execution_count": null,
   "metadata": {},
   "outputs": [],
   "source": [
    "del test\n",
    "test=pd.DataFrame(y_test)"
   ]
  },
  {
   "cell_type": "code",
   "execution_count": null,
   "metadata": {},
   "outputs": [],
   "source": [
    "test['modelo1']=predicted_test"
   ]
  },
  {
   "cell_type": "code",
   "execution_count": null,
   "metadata": {},
   "outputs": [],
   "source": [
    "test.plot()"
   ]
  },
  {
   "cell_type": "code",
   "execution_count": null,
   "metadata": {},
   "outputs": [],
   "source": [
    "test['Price_Rise'] = np.where(test['close'] > test['close'].shift(1), 1, 0)\n",
    "test['Price_Rise_modelo'] = np.where(test['modelo1'] > test['modelo1'].shift(1), 1, 0)\n"
   ]
  },
  {
   "cell_type": "code",
   "execution_count": null,
   "metadata": {},
   "outputs": [],
   "source": [
    "test"
   ]
  },
  {
   "cell_type": "code",
   "execution_count": null,
   "metadata": {},
   "outputs": [],
   "source": [
    "def get_data_splits(dataframe, y):\n",
    "    cv = OneStepTimeSeriesSplit(n_splits=12, test_period_length=1, shuffle=True)\n",
    "    #skf = StratifiedKFold(n_splits=10, random_state=5)\n",
    "    \n",
    "    for train_idx, valid_idx in cv.split(X_train,y_train): \n",
    "        train_x, train_y = X_train.iloc[train_idx], y_train.iloc[train_idx]\n",
    "        valid_x, valid_y = X_train.iloc[valid_idx], y_train.iloc[valid_idx]\n",
    "        \n",
    "    return train_x, train_y, valid_x, valid_y"
   ]
  },
  {
   "cell_type": "code",
   "execution_count": null,
   "metadata": {},
   "outputs": [],
   "source": [
    "import lightgbm as lgb\n",
    "def train_model(train_x, train_y, valid_x, valid_y):\n",
    "    params = {'boosting_type': 'gbdt'}\n",
    "    print('Starting training...')\n",
    "    # train\n",
    "    model = lgb.LGBMRegressor(**params)\n",
    "    model.fit(train_x, train_y, eval_set=[(train_x, train_y), (valid_x, valid_y)], verbose= 200, early_stopping_rounds= 200)\n",
    "\n",
    "    # Record the best iteration\n",
    "    best_iteration = model.best_iteration_\n",
    "    return model"
   ]
  },
  {
   "cell_type": "code",
   "execution_count": null,
   "metadata": {},
   "outputs": [],
   "source": [
    "train_x, train_y, valid_x, valid_y=get_data_splits(X_train, y_train)"
   ]
  },
  {
   "cell_type": "code",
   "execution_count": null,
   "metadata": {},
   "outputs": [],
   "source": [
    "model2=train_model(train_x, train_y, valid_x, valid_y)"
   ]
  },
  {
   "cell_type": "code",
   "execution_count": null,
   "metadata": {},
   "outputs": [],
   "source": [
    "predicted_test_m2 = model2.predict(X_test, num_iteration=model2.best_iteration_)"
   ]
  },
  {
   "cell_type": "code",
   "execution_count": null,
   "metadata": {},
   "outputs": [],
   "source": [
    "print('Error del modelo=', calculate_error(y_test, predicted_test_m2))\n",
    "print('RMSE del modelo=',np.sqrt(mse((y_test), predicted_test_m2)))\n",
    "print('Median Error del modelo=', median_error(y_test, predicted_test_m2))\n",
    "print('R2=', r2(y_test, predicted_test_m2))\n",
    "print('variance_score=', variance_score(y_test, predicted_test_m2))"
   ]
  },
  {
   "cell_type": "code",
   "execution_count": null,
   "metadata": {},
   "outputs": [],
   "source": [
    "test['modelo2']=predicted_test_m2"
   ]
  },
  {
   "cell_type": "code",
   "execution_count": null,
   "metadata": {},
   "outputs": [],
   "source": [
    "test.plot()"
   ]
  },
  {
   "cell_type": "code",
   "execution_count": null,
   "metadata": {},
   "outputs": [],
   "source": [
    "import pandas as pd\n",
    "df=pd.read_csv('~/Downloads/KLAC.csv',  index_col='Date',\n",
    "                 parse_dates=True, usecols=['Date', 'Close'],\n",
    "                 na_values='nan')"
   ]
  },
  {
   "cell_type": "code",
   "execution_count": null,
   "metadata": {},
   "outputs": [],
   "source": [
    "df = df.rename(columns={'Close': symbol})\n",
    "df.dropna(inplace=True)\n",
    "\n",
    "df.head()"
   ]
  },
  {
   "cell_type": "code",
   "execution_count": null,
   "metadata": {},
   "outputs": [],
   "source": [
    "sma = df.rolling(window=20).mean()\n",
    "sma.head()"
   ]
  },
  {
   "cell_type": "code",
   "execution_count": null,
   "metadata": {},
   "outputs": [],
   "source": [
    "# calculate the standar deviation\n",
    "rstd = df.rolling(window=20).std()\n",
    "rstd.tail()"
   ]
  },
  {
   "cell_type": "code",
   "execution_count": null,
   "metadata": {},
   "outputs": [],
   "source": [
    "upper_band = sma + 2 * rstd\n",
    "upper_band = upper_band.rename(columns={symbol: 'upper'})\n",
    "upper_band.tail()"
   ]
  },
  {
   "cell_type": "code",
   "execution_count": null,
   "metadata": {},
   "outputs": [],
   "source": [
    "middle_band= sma+ rstd\n",
    "middle_band = middle_band.rename(columns={symbol: '+1'})\n",
    "lower_band = sma - 2 * rstd\n",
    "lower_band = lower_band.rename(columns={symbol: 'lower'})\n",
    "middlelower_band=sma- rstd\n",
    "middlelower_band = middlelower_band.rename(columns={symbol: '-1'})\n",
    "middlelower_band.tail()"
   ]
  },
  {
   "cell_type": "code",
   "execution_count": null,
   "metadata": {},
   "outputs": [],
   "source": [
    "df = df.join(upper_band).join(lower_band).join(middle_band).join(middlelower_band)\n",
    "df.tail()"
   ]
  },
  {
   "cell_type": "code",
   "execution_count": null,
   "metadata": {},
   "outputs": [],
   "source": [
    "ax = df.plot(title='{} Price and BB'.format(symbol))\n",
    "ax.fill_between(df.index, lower_band['lower'], upper_band['upper'], color='#ADCCFF', alpha='0.4')\n",
    "ax.set_xlabel('Date')\n",
    "ax.set_ylabel('KLAC')\n",
    "ax.grid()\n",
    "plt.show()"
   ]
  },
  {
   "cell_type": "code",
   "execution_count": null,
   "metadata": {},
   "outputs": [],
   "source": [
    "# read csv file, use date as index and read close as a column\n",
    "#df = pd.read_csv('~/Dropbox/{}.csv'.format(symbol), index_col='date',parse_dates=True, usecols=['date', 'close'],na_values='nan')\n",
    "# rename the column header with symbol name\n",
    "df = df.rename(columns={'Close': symbol})\n",
    "df.dropna(inplace=True)\n",
    "\n",
    "# calculate Simple Moving Average with 20 days window\n",
    "sma = df.rolling(window=20).mean()\n",
    "\n",
    "# calculate the standar deviation\n",
    "rstd = df.rolling(window=20).std()\n",
    "\n",
    "upper_band = sma + 2 * rstd\n",
    "upper_band = upper_band.rename(columns={symbol: 'upper'})\n",
    "middle_band= sma+ rstd\n",
    "middle_band = middle_band.rename(columns={symbol: '+1'})\n",
    "lower_band = sma - 2 * rstd\n",
    "lower_band = lower_band.rename(columns={symbol: 'lower'})\n",
    "middlelower_band=sma- rstd\n",
    "middlelower_band = middlelower_band.rename(columns={symbol: '-1'})\n",
    "\n",
    "\n",
    "df = df.join(upper_band).join(lower_band).join(middle_band).join(middlelower_band)\n",
    "ax = df.plot(title='{} Price and BB'.format(symbol))\n",
    "ax.fill_between(df.index, lower_band['lower'], upper_band['upper'], color='#ADCCFF', alpha='0.4')\n",
    "ax.set_xlabel('Date')\n",
    "ax.set_ylabel('KLAC')\n",
    "ax.grid()\n",
    "plt.show()\n"
   ]
  },
  {
   "cell_type": "code",
   "execution_count": null,
   "metadata": {},
   "outputs": [],
   "source": [
    "data.describe()"
   ]
  },
  {
   "cell_type": "code",
   "execution_count": null,
   "metadata": {},
   "outputs": [],
   "source": [
    "start = '2018-01-01'\n",
    "end = pd.to_datetime('today')\n",
    "dates = pd.date_range(start, end)"
   ]
  },
  {
   "cell_type": "code",
   "execution_count": null,
   "metadata": {},
   "outputs": [],
   "source": [
    "df1=pd.DataFrame(index=dates)"
   ]
  },
  {
   "cell_type": "code",
   "execution_count": null,
   "metadata": {},
   "outputs": [],
   "source": [
    "spy=pd.read_csv('Data/SPY.csv', index_col='date',parse_dates=True, usecols=['date', 'close'],\n",
    "                 na_values=['nan'])\n",
    "spy=spy.rename(columns={'close': symbol})\n",
    "print(spy)\n"
   ]
  },
  {
   "cell_type": "code",
   "execution_count": null,
   "metadata": {},
   "outputs": [],
   "source": [
    "#join the two dframes\n",
    "df1=df1.join(spy)\n",
    "#saco los nulls, de los dias que no se opero\n",
    "#df1.join(spy, how=\"inner\")\n",
    "df1=df1.dropna()\n",
    "print(df1)"
   ]
  },
  {
   "cell_type": "code",
   "execution_count": null,
   "metadata": {},
   "outputs": [],
   "source": [
    "symbols=['GGAL','KLAC','Amazon']\n",
    "for symbol in symbols:\n",
    "    dftemp= pd.read_csv('~/Data/{}.csv'.format(symbol), index_col='date',\n",
    "                 parse_dates=True, usecols=['date', 'close'],\n",
    "                 na_values='nan')\n",
    "    dftemp=dftemp.rename(columns={'close': symbol})\n",
    "    df1=df1.join(dftemp)"
   ]
  },
  {
   "cell_type": "code",
   "execution_count": null,
   "metadata": {},
   "outputs": [],
   "source": [
    "print(df1)"
   ]
  },
  {
   "cell_type": "code",
   "execution_count": null,
   "metadata": {},
   "outputs": [],
   "source": [
    "import os\n",
    "def symbol_to_path(symbol, base_dir=\"data\"):\n",
    "    \"\"\"Return CSV file path given ticker symbol.\"\"\"\n",
    "    return os.path.join(base_dir, \"{}.csv\".format(str(symbol)))\n",
    "\n",
    "\n",
    "def get_data(symbols, dates):\n",
    "    \"\"\"Read stock data (adjusted close) for given symbols from CSV files.\"\"\"\n",
    "    df = pd.DataFrame(index=dates)\n",
    "    if 'SPY' not in symbols:  # add SPY for reference, if absent\n",
    "        symbols.insert(0, 'SPY')\n",
    "\n",
    "    for symbol in symbols:\n",
    "            dftemp= pd.read_csv(symbol_to_path(symbol).format(symbol), index_col='date',\n",
    "                 parse_dates=True, usecols=['date', 'close'],\n",
    "                 na_values='nan')\n",
    "            dftemp=dftemp.rename(columns={'close': symbol})\n",
    "            df=df.join(dftemp)\n",
    "            if symbol=='SPY':\n",
    "                df=df.dropna(subset=['SPY'])\n",
    "    return df\n",
    "\n",
    "\n",
    "def test_run():\n",
    "    # Define a date range\n",
    "    dates = pd.date_range(start, end)\n",
    "\n",
    "    # Choose stock symbols to read\n",
    "    symbols = ['GGAL','KLAC','Amazon']\n",
    "    \n",
    "    # Get stock data\n",
    "    df = get_data(symbols, dates)\n",
    "    print(df)\n",
    "    print(df.mean())\n",
    "    print(df.std())\n",
    "def plot_data(df, title=\"Stock prices\", xlabel=\"Date\", ylabel=\"Price\"):\n",
    "    \"\"\"Plot stock prices with a custom title and meaningful axis labels.\"\"\"\n",
    "    ax = df.plot(title=title, fontsize=12)\n",
    "    ax.set_xlabel(xlabel)\n",
    "    ax.set_ylabel(ylabel)\n",
    "    plt.show()\n",
    "\n",
    "\n",
    "def compute_daily_returns(df):\n",
    "    \"\"\"Compute and return the daily return values.\"\"\"\n",
    "    daily_returns= (df/df.shift(1))-1\n",
    "    daily_returns.iloc[0,:]= 0\n",
    "    return daily_returns\n",
    "\n",
    "\n",
    "def test_run():\n",
    "    # Read data\n",
    "   \n",
    "    df = get_data(symbols, dates)\n",
    "    plot_data(df)\n",
    "\n",
    "    # Compute daily returns\n",
    "    daily_returns = compute_daily_returns(df)\n",
    "    plot_data(daily_returns, title=\"Daily returns\", ylabel=\"Daily returns\")\n",
    "    daily_returns.hist(bins=20)\n",
    "    \n",
    "    mean=daily_returns.mean()\n",
    "    print (\"mean=\", mean)\n",
    "    std=daily_returns.std()\n",
    "    print (\"std=\", std)\n",
    "    kurtosis=daily_returns.kurtosis()\n",
    "    print (\"kurtosis=\", kurtosis)\n",
    "    plt.axvline(mean, color='w', linestyle='dashed', linewidth=2)\n",
    "    plt.axvline(std, color='r', linestyle='dashed', linewidth=2)\n",
    "    plt.axvline(-std, color='r', linestyle='dashed', linewidth=2)\n",
    "    plt.show()\n",
    "\n",
    "    #histograma todos juntos\n",
    "    daily_returns['SPY'].hist(bins=20, label=\"SPY\")\n",
    "    daily_returns['GGAL'].hist(bins=20, label=\"GGAL\")\n",
    "    plt.legend(loc='upper right')\n",
    "    plt.show()\n",
    "    \n",
    "    #scatterplot\n",
    "    daily_returns.plot(kind='scatter',x='SPY', y='GGAL')\n",
    "    plt.show()\n",
    "\n",
    "    \n",
    "    start_val = 1000000\n",
    "    allocs = [0.4, 0.4, 0.1, 0.1]\n",
    "\n",
    "\n",
    "normed = prices/prices[0]\n",
    "alloced = normed * allocs\n",
    "pos_vals = alloced * start_val\n",
    "port_val = pos_vals.sum(axis=1)\n",
    "\n",
    "daily_rets = daily_rets[1:]\n",
    "cum_ret = (port_val[-1]/port_val[0] - 1)\n",
    "avg_daily_ret = daily_rets.mean()\n",
    "std_daily_ret = daily_rets.std()\n",
    "\n",
    "SR = sqrt(k) * mean(daily_rets - daily_rf) / std(daily_rets)\n",
    "\n",
    "\n",
    "    \n",
    "if __name__ == \"__main__\":\n",
    "    test_run()\n"
   ]
  },
  {
   "cell_type": "code",
   "execution_count": null,
   "metadata": {},
   "outputs": [],
   "source": [
    "print(df1.mean())"
   ]
  },
  {
   "cell_type": "code",
   "execution_count": null,
   "metadata": {},
   "outputs": [],
   "source": [
    "import scipy.optimize as spo"
   ]
  },
  {
   "cell_type": "code",
   "execution_count": null,
   "metadata": {},
   "outputs": [],
   "source": [
    "import datetime as dt\n",
    "cr, adr, sddr, sr, ev = \\\n",
    "    assess_portfolio(sd=dt.datetime(2008,1,1), ed=dt.datetime(2009,1,1), \\\n",
    "    syms=['GOOG','AAPL','GLD','XOM'], \\\n",
    "    allocs=[0.1,0.2,0.3,0.4], \\\n",
    "    sv=1000000, rfr=0.0, sf=252.0, \\\n",
    "    gen_plot=False)"
   ]
  },
  {
   "cell_type": "markdown",
   "metadata": {},
   "source": [
    "Como mandar un mail con el resultado del análisis"
   ]
  },
  {
   "cell_type": "code",
   "execution_count": null,
   "metadata": {},
   "outputs": [],
   "source": [
    "import pandas as pd\n",
    "import pandas_datareader as web\n",
    "import csv\n",
    "import time\n",
    "import matplotlib.pyplot as plt\n",
    "\n",
    "def send_email(user, pwd, recipient, subject, body):\n",
    "    import smtplib\n",
    "    gmail_user = user\n",
    "    gmail_pwd = pwd\n",
    "    FROM = user\n",
    "    TO = recipient if type(recipient) is list else [recipient]\n",
    "    SUBJECT = subject\n",
    "    TEXT = body\n",
    "    message = \"\"\"From: %s\\nTo: %s\\nSubject: %s\\n\\n%s\"\"\" % (FROM, \", \".join(TO), SUBJECT, TEXT)\n",
    "    try:\n",
    "        server = smtplib.SMTP(\"smtp.gmail.com\", 587)\n",
    "        server.ehlo()\n",
    "        server.starttls()\n",
    "        server.login(gmail_user, gmail_pwd)\n",
    "        server.sendmail(FROM, TO, message)\n",
    "        server.close()\n",
    "        print (\"success\")\n",
    "    except:\n",
    "        print (\"failure\")\n",
    "\n",
    "SP500 = ['AAPL', 'ABT', 'ABBV', 'ACN', 'ADBE', 'ADT', 'AAP', 'AES', 'AET', 'AFL', 'AMG', 'A', 'ARE', 'APD', 'AKAM', 'AGN', 'ALXN', 'ALLE', 'ADS', 'ALL', 'ALTR', 'MO', 'AMZN', 'AEE', 'AAL', 'AEP', 'AXP', 'AIG', 'AMT', 'AMP', 'ABC', 'AME', 'AMGN', 'APH', 'APC', 'ADI', 'AON', 'APA', 'AIV', 'AMAT', 'ADM', 'AIZ', 'T', 'ADSK', 'ADP', 'AN', 'AZO', 'AVGO', 'AVB', 'AVY', 'BLL', 'BAC', 'BK', 'BXLT', 'BAX', 'BBT', 'BDX', 'BBBY', 'BRK.B', 'BBY', 'BLX', 'HRB', 'BA', 'BWA', 'BXP', 'BSX', 'BMY', 'BF.B', 'CHRW', 'CA', 'COG', 'CPB', 'COF', 'CAH', 'HSIC', 'KMX', 'CCL', 'CAT', 'CBG', 'CBS', 'CELG', 'CNP', 'CTL', 'CERN', 'CF', 'SCHW', 'CHK', 'CVX', 'CMG', 'CB', 'CI', 'XEC', 'CINF', 'CTAS', 'CSCO', 'C', 'CTXS', 'CLX', 'CME', 'CMS', 'COH', 'KO', 'CCE', 'CTSH', 'CL', 'CMCSA', 'CMA', 'CSC', 'CAG', 'COP', 'CNX', 'ED', 'STZ', 'GLW', 'COST', 'CCI', 'CSX', 'CMI', 'CVS', 'DHI', 'DHR', 'DRI', 'DVA', 'DE', 'DLPH', 'DAL', 'XRAY', 'DVN', 'DO', 'DTV', 'DFS', 'DISCA', 'DISCK', 'DG', 'DLTR', 'D', 'DOV', 'DOW', 'DPS', 'DTE', 'DUK', 'DNB', 'ETFC', 'EMN', 'ETN', 'EBAY', 'ECL', 'EIX', 'EW', 'EA', 'EMR', 'ENDP', 'ESV', 'ETR', 'EOG', 'EQT', 'EFX', 'EQIX', 'EQR', 'ESS', 'EL', 'ES', 'EXC', 'EXPE', 'EXPD', 'ESRX', 'XOM', 'FFIV', 'FB', 'FAST', 'FDX', 'FIS', 'FITB', 'FSLR', 'FE', 'FISV', 'FLIR', 'FLS', 'FLR', 'FMC', 'F', 'FOSL', 'BEN', 'FCX', 'FTR', 'GME', 'GPS', 'GRMN', 'GD', 'GE', 'GGP', 'GIS', 'GM', 'GPC', 'GNW', 'GILD', 'GS', 'GT', 'GOOGL', 'GOOG', 'GWW', 'HAL', 'HBI', 'HOG', 'HRS', 'HIG', 'HAS', 'HCA', 'HCP', 'HCN', 'HP', 'HES', 'HPQ', 'HD', 'HON', 'HRL', 'HST', 'HUM', 'HBAN', 'ITW', 'IR', 'INTC', 'ICE', 'IBM', 'IP', 'IPG', 'IFF', 'INTU', 'ISRG', 'IVZ', 'IRM', 'JEC', 'JBHT', 'JNJ', 'JCI', 'JPM', 'JNPR', 'KSU', 'K', 'KEY', 'KMB', 'KIM', 'KMI', 'KLAC', 'KSS', 'KR', 'LB', 'LLL', 'LH', 'LRCX', 'LM', 'LEG', 'LEN', 'LUK', 'LLY', 'LNC', 'LMT', 'L', 'LOW', 'LYB', 'MTB', 'MAC', 'M', 'MNK', 'MRO', 'MPC', 'MAR', 'MMC', 'MLM', 'MAS', 'MA', 'MAT', 'MKC', 'MCD', 'MMV', 'MDT', 'MRK', 'MET', 'KORS', 'MCHP', 'MU', 'MSFT', 'MHK', 'TAP', 'MDLZ', 'MON', 'MNST', 'MCO', 'MS', 'MOS', 'MSI', 'MUR', 'MYL', 'NDAQ', 'NOV', 'NAVI', 'NTAP', 'NFLX', 'NWL', 'NFX', 'NEM', 'NWSA', 'NEE', 'NLSN', 'NKE', 'NI', 'NE', 'NBL', 'JWN', 'NSC', 'NTRS', 'NOC', 'NRG', 'NUE', 'NVDA', 'ORLY', 'OXY', 'OMC', 'OKE', 'ORCL', 'OI', 'PCAR', 'PH', 'PDCO', 'PAYX', 'PNR', 'PBCT', 'PEP', 'PKI', 'PRGO', 'PFE', 'PCG', 'PM', 'PSX', 'PNW', 'PXD', 'PBI', 'PNC', 'RL', 'PPG', 'PPL', 'PX', 'PCLN', 'PFG', 'PG', 'PGR', 'PLD', 'PRU', 'PEG', 'PSA', 'PHM', 'PVH', 'QRVO', 'PWR', 'QCOM', 'DGX', 'RRC', 'RTN', 'O', 'RHT', 'REGN', 'RF', 'RSG', 'RHI', 'ROK', 'COL', 'ROP', 'ROST', 'R', 'CRM', 'SCG', 'SLB', 'SNI', 'STX', 'SEE', 'SRE', 'SHW', 'SPG', 'SWKS', 'SLG', 'SJM', 'SNA', 'SO', 'LUV', 'SWN', 'STJ', 'SWK', 'SBUX', 'STT', 'SRCL', 'SYK', 'STI', 'SYMC', 'SYY', 'TROW', 'TGT', 'TEL', 'TGNA', 'THC', 'TDC', 'TSO', 'TXN', 'TXT', 'HSY', 'TRV', 'TMO', 'TIF', 'TWX', 'TJX', 'TMK', 'TSS', 'TSCO', 'RIG', 'TRIP', 'FOXA', 'TSN', 'UA', 'UNP', 'UNH', 'UPS', 'URI', 'UTX', 'UHS', 'UNM', 'URBN', 'VFC', 'VLO', 'VAR', 'VTR', 'VRSN', 'VZ', 'VRTX', 'VIAB', 'V', 'VNO', 'VMC', 'WMT', 'WBA', 'DIS', 'WM', 'WAT', 'ANTM', 'WFC', 'WDC', 'WU', 'WY', 'WHR', 'WMB', 'WEC', 'WYN', 'WYNN', 'XEL', 'XRX', 'XLNX', 'XL', 'XYL', 'YHOO', 'YUM', 'ZBH', 'ZION', 'ZTS']\n",
    "def analysis(stocks):\n",
    "  signal = []\n",
    "  stockssave = []\n",
    "  n = 1\n",
    "  for s in stocks:\n",
    "    try:\n",
    "      raw = web.DataReader(s, \"morningstar\", start='9/17/2018', end='9/20/2018')\n",
    "      raw.to_csv('raw.csv')\n",
    "      step1 = pd.read_csv('raw.csv', index_col='Date', parse_dates = True)\n",
    "      rm = step1['Close'].rolling(window = 20, center = False).mean()\n",
    "      close = step1[:]['Close']\n",
    "      dr = (close / close.shift(1)) - 1\n",
    "      std = step1['Close'].rolling(window = 20, center = False).std()\n",
    "      bolllow = rm - (2 * std)\n",
    "      bollhigh = rm + (2 * std)\n",
    "      step2 = step1\n",
    "      step2.loc[:,'Rolling Mean 20'] = pd.Series(rm, index = step2.index)\n",
    "      step2.loc[:,'Bollinger Low'] = pd.Series(bolllow, index = step2.index)\n",
    "      step2.to_csv('step2.csv')\n",
    "      save = pd.read_csv('step2.csv')\n",
    "      stockssave.append(save)\n",
    "      n = n + 1\n",
    "      if save[-1:]['Close'].values < save[-1:]['Bollinger Low'].values:\n",
    "        signal.append(s)\n",
    "    except:\n",
    "      print (s)\n",
    "      print (n)\n",
    "      continue\n",
    "  if len(signal) > 0:\n",
    "    send_email('fdiaz1602@gmail.com', '42056154', 'floridi@hotmail.com', 'Stocks under Boll low', signal)\n",
    "  return\n",
    "\n"
   ]
  },
  {
   "cell_type": "code",
   "execution_count": null,
   "metadata": {},
   "outputs": [],
   "source": [
    "analysis(SP500)"
   ]
  },
  {
   "cell_type": "code",
   "execution_count": null,
   "metadata": {},
   "outputs": [],
   "source": [
    "import smtplib\n",
    "import string"
   ]
  },
  {
   "cell_type": "markdown",
   "metadata": {},
   "source": [
    " We will apply K-Means to the S&P 500, create subgroups, and then choose five tradeable relationships to construct our portfolios."
   ]
  },
  {
   "cell_type": "code",
   "execution_count": null,
   "metadata": {},
   "outputs": [],
   "source": [
    "#data analysis and manipulation\n",
    "import numpy as np\n",
    "import pandas as pd\n",
    "\n",
    "#data visualization\n",
    "import matplotlib.pyplot as plt\n",
    "import seaborn as sns\n",
    "sns.set_style('whitegrid')\n",
    "\n",
    "#statistics and machine learning\n",
    "from statsmodels.tsa.api import adfuller\n",
    "from sklearn.cluster import KMeans\n",
    "from sklearn.mixture import GaussianMixture as GM\n",
    "from sklearn.ensemble import RandomForestClassifier as RF\n",
    "from sklearn.metrics import confusion_matrix, classification_report\n"
   ]
  },
  {
   "cell_type": "code",
   "execution_count": null,
   "metadata": {},
   "outputs": [],
   "source": [
    "import warnings\n",
    "warnings.simplefilter('ignore')"
   ]
  },
  {
   "cell_type": "code",
   "execution_count": null,
   "metadata": {},
   "outputs": [],
   "source": [
    "##para bajar de yahoo\n",
    "import pandas_datareader.data as pdr\n",
    "import fix_yahoo_finance as fix\n",
    "import time\n",
    "fix.pdr_override()\n",
    "\n",
    "\n",
    "def get_stock_data(ticker, start_date, end_date):\n",
    "    \"\"\"\n",
    "    Gets historical stock data of given tickers between dates\n",
    "    :param ticker: company, or companies whose data is to fetched\n",
    "    :type ticker: string or list of strings\n",
    "    :param start_date: starting date for stock prices\n",
    "    :type start_date: string of date \"YYYY-mm-dd\"\n",
    "    :param end_date: end date for stock prices\n",
    "    :type end_date: string of date \"YYYY-mm-dd\"\n",
    "    :return: stock_data.csv\n",
    "    \"\"\"\n",
    "    i = 1\n",
    "    try:\n",
    "        all_data = pdr.get_data_yahoo(ticker, start_date, end_date)\n",
    "    except ValueError:\n",
    "        print(\"ValueError, trying again\")\n",
    "        i += 1\n",
    "        if i < 5:\n",
    "            time.sleep(10)\n",
    "            get_stock_data(ticker, start_date, end_date)\n",
    "        else:\n",
    "            print(\"Tried 5 times, Yahoo error. Trying after 2 minutes\")\n",
    "            time.sleep(120)\n",
    "            get_stock_data(ticker, start_date, end_date)\n",
    "    stock_data = all_data[\"Adj Close\"]\n",
    "    stock_data.to_csv(\"stock_prices.csv\")\n",
    "\n",
    "\n",
    "def get_sp500(start_date, end_date):\n",
    "    \"\"\"\n",
    "    Gets sp500 price data\n",
    "    :param start_date: starting date for sp500 prices\n",
    "    :type start_date: string of date \"Y-m-d\"\n",
    "    :param end_date: end date for sp500 prices\n",
    "    :type end_date: string of date \"Y-m-d\"\n",
    "    :return: sp500_data.csv\n",
    "    \"\"\"\n",
    "    i = 1\n",
    "    try:\n",
    "        sp500_all_data = pdr.get_data_yahoo(\"SPY\", start_date, end_date)\n",
    "    except ValueError:\n",
    "        print(\"ValueError, trying again\")\n",
    "        i += 1\n",
    "        if i < 5:\n",
    "            time.sleep(10)\n",
    "            get_stock_data(start_date, end_date)\n",
    "        else:\n",
    "            print(\"Tried 5 times, Yahoo error. Trying after 2 minutes\")\n",
    "            time.sleep(120)\n",
    "            get_stock_data(start_date, end_date)\n",
    "    sp500_data = sp500_all_data[\"Adj Close\"]\n",
    "    sp500_data.to_csv(\"sp500_data.csv\")\n",
    "\n",
    "\n",
    "if __name__ == \"__main__\":\n",
    "    get_stock_data(\"AAPL\", \"2018-01-01\", \"2018-09-27\")\n",
    "    # get_sp500(\"2018-05-01\", \"2018-06-01\")"
   ]
  },
  {
   "cell_type": "code",
   "execution_count": null,
   "metadata": {},
   "outputs": [],
   "source": [
    "get_stock_data(\"AAPL\", \"2018-01-01\", \"2019-09-27\")"
   ]
  },
  {
   "cell_type": "code",
   "execution_count": null,
   "metadata": {},
   "outputs": [],
   "source": [
    "class DataProcessing:\n",
    "    def __init__(self, file, train):\n",
    "        self.file = pd.read_csv('stock_prices')\n",
    "        self.train = train\n",
    "        self.i = int(self.train * len(self.file))\n",
    "        self.stock_train = self.file[0: self.i]\n",
    "        self.stock_test = self.file[self.i:]\n",
    "        self.input_train = []\n",
    "        self.output_train = []\n",
    "        self.input_test = []\n",
    "        self.output_test = []\n",
    "\n",
    "    def gen_train(self, seq_len):\n",
    "        \"\"\"\n",
    "        Generates training data\n",
    "        :param seq_len: length of window\n",
    "        :return: X_train and Y_train\n",
    "        \"\"\"\n",
    "        for i in range((len(self.stock_train)//seq_len)*seq_len - seq_len - 1):\n",
    "            x = np.array(self.stock_train.iloc[i: i + seq_len, 1])\n",
    "            y = np.array([self.stock_train.iloc[i + seq_len + 1, 1]], np.float64)\n",
    "            self.input_train.append(x)\n",
    "            self.output_train.append(y)\n",
    "        self.X_train = np.array(self.input_train)\n",
    "        self.Y_train = np.array(self.output_train)\n",
    "\n",
    "    def gen_test(self, seq_len):\n",
    "        \"\"\"\n",
    "        Generates test data\n",
    "        :param seq_len: Length of window\n",
    "        :return: X_test and Y_test\n",
    "        \"\"\"\n",
    "        for i in range((len(self.stock_test)//seq_len)*seq_len - seq_len - 1):\n",
    "            x = np.array(self.stock_test.iloc[i: i + seq_len, 1])\n",
    "            y = np.array([self.stock_test.iloc[i + seq_len + 1, 1]], np.float64)\n",
    "            self.input_test.append(x)\n",
    "            self.output_test.append(y)\n",
    "        self.X_test = np.array(self.input_test)\n",
    "        self.Y_test = np.array(self.output_test)"
   ]
  },
  {
   "cell_type": "code",
   "execution_count": null,
   "metadata": {},
   "outputs": [],
   "source": [
    "Preprocessing.get_train(183)\n"
   ]
  },
  {
   "cell_type": "code",
   "execution_count": null,
   "metadata": {},
   "outputs": [],
   "source": []
  }
 ],
 "metadata": {
  "kernelspec": {
   "display_name": "Python 3",
   "language": "python",
   "name": "python3"
  },
  "language_info": {
   "codemirror_mode": {
    "name": "ipython",
    "version": 3
   },
   "file_extension": ".py",
   "mimetype": "text/x-python",
   "name": "python",
   "nbconvert_exporter": "python",
   "pygments_lexer": "ipython3",
   "version": "3.7.3"
  }
 },
 "nbformat": 4,
 "nbformat_minor": 2
}
