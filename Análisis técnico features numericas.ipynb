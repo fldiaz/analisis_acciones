{
 "cells": [
  {
   "cell_type": "code",
   "execution_count": 73,
   "metadata": {},
   "outputs": [],
   "source": [
    "# Machine learning\n",
    "from sklearn.metrics import scorer\n",
    "from sklearn.metrics import accuracy_score\n",
    "\n",
    "# For data manipulation\n",
    "import pandas as pd\n",
    "import numpy as np\n",
    "import pandas_datareader.data as web\n",
    "\n",
    "\n",
    "# To plot\n",
    "import matplotlib.pyplot as plt\n",
    "import seaborn as sns \n",
    "import ta"
   ]
  },
  {
   "cell_type": "code",
   "execution_count": 74,
   "metadata": {},
   "outputs": [],
   "source": [
    "def nulls(df):\n",
    "    nulls = pd.DataFrame(df.isnull().sum().sort_values(), columns=['nulls'])\n",
    "    nulls['porcentaje'] = round(100*nulls['nulls'] / len(df), 2)\n",
    "    nulls.sort_values('porcentaje')\n",
    "    return nulls"
   ]
  },
  {
   "cell_type": "code",
   "execution_count": 75,
   "metadata": {},
   "outputs": [],
   "source": [
    "from sklearn.metrics import mean_absolute_error\n",
    "def calculate_error(test_y, predicted):\n",
    "    return mean_absolute_error(test_y, predicted)\n",
    "#The best possible score is 1.0, lower values are worse.\n",
    "from sklearn.metrics import explained_variance_score\n",
    "def variance_score(test_y, predicted):\n",
    "    return explained_variance_score(test_y, predicted) \n",
    "from sklearn.metrics import median_absolute_error\n",
    "def median_error(test_y, predicted):\n",
    "    return median_absolute_error (test_y, predicted) \n",
    "from sklearn.metrics import r2_score\n",
    "def r2(test_y, predicted):\n",
    "    return r2_score(test_y, predicted) \n",
    "from sklearn.metrics import mean_squared_error\n",
    "def mse(test_y, predicted):\n",
    "    return mean_squared_error(test_y, predicted)"
   ]
  },
  {
   "cell_type": "code",
   "execution_count": 76,
   "metadata": {},
   "outputs": [],
   "source": [
    "def add_original_feature(df, df_new):\n",
    "    #df_new['open'] = df['open']\n",
    "    df_new['open_1'] = df['open'].shift(1)\n",
    "    df_new['close_1'] = df['close'].shift(1)\n",
    "    df_new['high_1'] = df['high'].shift(1)\n",
    "    df_new['low_1'] = df['low'].shift(1)\n",
    "    df_new['volume_1'] = df['volume'].shift(1)\n",
    "    df_new['H-L-1'] = df['high'].shift(1) - df['low'].shift(1)\n",
    "    df_new['O-C-1'] = df['close'].shift(1) - df['open'].shift(1)"
   ]
  },
  {
   "cell_type": "code",
   "execution_count": 77,
   "metadata": {},
   "outputs": [],
   "source": [
    "def add_avg_price(df, df_new):\n",
    "    df_new['avg_price_5'] = df['close'].rolling(5).mean().shift(1)\n",
    "    df_new['avg_price_30'] = df['close'].rolling(21).mean().shift(1)\n",
    "    df_new['avg_price_365'] = df['close'].rolling(252).mean().shift(1)\n",
    "    df_new['ratio_avg_price_5_30'] = df_new['avg_price_5'] / df_new['avg_price_30']\n",
    "    df_new['ratio_avg_price_5_365'] = df_new['avg_price_5'] / df_new['avg_price_365']\n",
    "    df_new['ratio_avg_price_30_365'] = df_new['avg_price_30'] / df_new['avg_price_365']"
   ]
  },
  {
   "cell_type": "code",
   "execution_count": 78,
   "metadata": {},
   "outputs": [],
   "source": [
    "def add_avg_volume(df, df_new):\n",
    "    df_new['avg_volume_5'] = df['volume'].rolling(5).mean().shift(1)\n",
    "    df_new['avg_volume_30'] = df['volume'].rolling(21).mean().shift(1)\n",
    "    df_new['avg_volume_365'] = df['volume'].rolling(252).mean().shift(1)\n",
    "    df_new['ratio_avg_volume_5_30'] = df_new['avg_volume_5'] / df_new['avg_volume_30']\n",
    "    df_new['ratio_avg_volume_5_365'] = df_new['avg_volume_5'] / df_new['avg_volume_365']\n",
    "    df_new['ratio_avg_volume_30_365'] = df_new['avg_volume_30'] / df_new['avg_volume_365']"
   ]
  },
  {
   "cell_type": "code",
   "execution_count": 79,
   "metadata": {},
   "outputs": [],
   "source": [
    "def add_std_price(df, df_new):\n",
    "    df_new['std_price_5'] = df['close'].rolling(5).std().shift(1)\n",
    "    df_new['std_price_30'] = df['close'].rolling(21).std().shift(1)\n",
    "    df_new['std_price_365'] = df['close'].rolling(252).std().shift(1)\n",
    "    df_new['ratio_std_price_5_30'] = df_new['std_price_5'] / df_new['std_price_30']\n",
    "    df_new['ratio_std_price_5_365'] = df_new['std_price_5'] / df_new['std_price_365'] \n",
    "    df_new['ratio_std_price_30_365'] = df_new['std_price_30'] / df_new['std_price_365']"
   ]
  },
  {
   "cell_type": "code",
   "execution_count": 80,
   "metadata": {},
   "outputs": [],
   "source": [
    "def add_std_volume(df, df_new):\n",
    "    df_new['std_volume_5'] = df['volume'].rolling(5).std().shift(1)\n",
    "    df_new['std_volume_30'] = df['volume'].rolling(21).std().shift(1)\n",
    "    df_new['std_volume_365'] = df['volume'].rolling(252).std().shift(1)\n",
    "    df_new['ratio_std_volume_5_30'] = df_new['std_volume_5'] / df_new['std_volume_30']\n",
    "    df_new['ratio_std_volume_5_365'] = df_new['std_volume_5'] / df_new['std_volume_365']\n",
    "    df_new['ratio_std_volume_30_365'] = df_new['std_volume_30'] / df_new['std_volume_365']"
   ]
  },
  {
   "cell_type": "code",
   "execution_count": 81,
   "metadata": {},
   "outputs": [],
   "source": [
    "def add_return_feature(df, df_new):\n",
    "    #df_new['return_1'] = ((df['close'] - df['close'].shift(1)) / df['close'].shift(1)).shift(1)\n",
    "    df_new['return_1']= df['close'].pct_change(periods=1)#.apply(lambda x: x*100)\n",
    "    df_new['return_5']= df['close'].pct_change(periods=5)#.apply(lambda x: x*100)\n",
    "    df_new['return_30']= df['close'].pct_change(periods=30)#.apply(lambda x: x*100)\n",
    "    #df_new['return_5'] = ((df['close'] - df['close'].shift(5)) / df['close'].shift(5)).shift(1)\n",
    "    #df_new['return_30'] = ((df['close'] - df['close'].shift(21)) / df['close'].shift(21)).shift(1)\n",
    "    df_new['return_365']= df['close'].pct_change(periods=365)#.apply(lambda x: x*100)\n",
    "    #df_new['return_365'] = ((df['close'] - df['close'].shift(252)) / df['close'].shift(252)).shift(1)\n",
    "    df_new['moving_avg_5'] = df_new['return_1'].rolling(5).mean().shift(1)\n",
    "    df_new['moving_avg_30'] = df_new['return_1'].rolling(21).mean().shift(1)\n",
    "    df_new['moving_avg_365'] = df_new['return_1'].rolling(252).mean().shift(1)\n",
    "    "
   ]
  },
  {
   "cell_type": "code",
   "execution_count": 82,
   "metadata": {},
   "outputs": [],
   "source": [
    "def generate_features(df):\n",
    "    \"\"\"\"Generate features for a stock/index based on historical price and performance\n",
    "    @param df: dataframe with columns \"Open\", \"Close\", \"High\",\n",
    "    \"Low\", \"Volume\", \"Adjusted Close\"\n",
    "     @return: dataframe, data set with new features\"\"\"\n",
    "    df.rename(columns={'Date':'date','Open':'open', 'High': 'high', 'Low':'low', 'Close':'close', 'Volume':'volume'}, inplace=True)\n",
    "    df.date = pd.to_datetime(df.date)\n",
    "    df.set_index('date', inplace=True)\n",
    "    df_new = pd.DataFrame()\n",
    "    # 6 original features\n",
    "    add_original_feature(df, df_new)\n",
    "    # 31 generated features\n",
    "    add_avg_price(df, df_new)\n",
    "    add_avg_volume(df, df_new)\n",
    "    add_std_price(df, df_new)\n",
    "    add_std_volume(df, df_new)\n",
    "    add_return_feature(df, df_new)\n",
    "    # the target\n",
    "    df_new['Price_Rise'] = np.where(df_new['return_1'] > 0, 1, 0)\n",
    "    #df_new['Price_Rise']=df_new['Price_Rise'].shift(-1)\n",
    "    #df_new = df_new.iloc[:, 4:]\n",
    "    #df_new['close'] = df['close']\n",
    "    #df_new = df_new.dropna(axis=0)\n",
    "    \n",
    "    return df_new"
   ]
  },
  {
   "cell_type": "markdown",
   "metadata": {},
   "source": [
    "#os.environ[\"IEX_API_KEY\"] ='pk_e271b18147e74da39d11e3ce6db5f471'"
   ]
  },
  {
   "cell_type": "code",
   "execution_count": 83,
   "metadata": {},
   "outputs": [],
   "source": [
    "# collect data for  from 2017-04-22\n",
    "api_key_iex='pk_e271b18147e74da39d11e3ce6db5f471'\n",
    "symbol='KLAC'\n",
    "start = '1980-01-01'\n",
    "end = pd.to_datetime('today')\n",
    "df = web.DataReader(name=symbol, data_source='yahoo', start=start, end=end)"
   ]
  },
  {
   "cell_type": "code",
   "execution_count": 84,
   "metadata": {},
   "outputs": [
    {
     "data": {
      "image/png": "[encoded data removed]",
      "text/plain": [
       "<Figure size 720x360 with 1 Axes>"
      ]
     },
     "metadata": {},
     "output_type": "display_data"
    }
   ],
   "source": [
    "# deleting all columns and keeping just the date and adjusted close price \n",
    "klac_close= df.drop(df.columns[0:5], axis=1)\n",
    "# let's visualize in a line plot how our stocks performed overtime \n",
    "# let's visualize in a line plot how our stocks performed overtime \n",
    "from matplotlib import style\n",
    "\n",
    "# Adjusting the style \n",
    "style.use('dark_background')\n",
    "plt.figure(figsize=(10,5))\n",
    "ax1= sns.lineplot(x=klac_close.index, y= klac_close['Adj Close'], label='Klac');\n",
    "\n",
    "plt.title(\"KLAC\")\n",
    "\n",
    "plt.legend()\n",
    "\n",
    "plt.show()\n"
   ]
  },
  {
   "cell_type": "markdown",
   "metadata": {},
   "source": [
    "df=pd.read_csv('KLAC_hist.csv')"
   ]
  },
  {
   "cell_type": "code",
   "execution_count": 85,
   "metadata": {},
   "outputs": [],
   "source": [
    "df.reset_index(inplace=True)\n",
    "data = generate_features(df)"
   ]
  },
  {
   "cell_type": "code",
   "execution_count": 88,
   "metadata": {},
   "outputs": [],
   "source": [
    "data.to_csv('klac+features.csv')"
   ]
  },
  {
   "cell_type": "code",
   "execution_count": 20,
   "metadata": {},
   "outputs": [],
   "source": [
    "\n",
    "#df=df.append({'date': '2020-01-28', 'open': 172.20, 'close':0}, ignore_index=True)"
   ]
  },
  {
   "cell_type": "markdown",
   "metadata": {},
   "source": [
    "#del df\n",
    "df=pd.read_csv('KLAC.csv')"
   ]
  },
  {
   "cell_type": "code",
   "execution_count": 21,
   "metadata": {},
   "outputs": [],
   "source": [
    "pcnt_df = df['close'].pct_change(periods=1)#.apply(lambda x: x*100)"
   ]
  },
  {
   "cell_type": "code",
   "execution_count": 22,
   "metadata": {},
   "outputs": [
    {
     "data": {
      "text/plain": [
       "date\n",
       "2020-03-16   -0.109170\n",
       "2020-03-17    0.155444\n",
       "2020-03-18   -0.117690\n",
       "2020-03-19   -0.035298\n",
       "2020-03-20   -0.104742\n",
       "Name: close, dtype: float64"
      ]
     },
     "execution_count": 22,
     "metadata": {},
     "output_type": "execute_result"
    }
   ],
   "source": [
    "pcnt_df.tail()"
   ]
  },
  {
   "cell_type": "code",
   "execution_count": 23,
   "metadata": {},
   "outputs": [],
   "source": [
    "import matplotlib.pyplot as plt\n",
    "\n",
    "def scatter(dataset, column):\n",
    "    plt.figure()\n",
    "    plt.scatter(dataset[column] , dataset['return_1'])\n",
    "    plt.ylabel('return_1')\n",
    "    plt.xlabel(column)"
   ]
  },
  {
   "cell_type": "code",
   "execution_count": 24,
   "metadata": {},
   "outputs": [
    {
     "data": {
      "text/plain": [
       "Index(['open_1', 'close_1', 'high_1', 'low_1', 'volume_1', 'H-L-1', 'O-C-1',\n",
       "       'avg_price_5', 'avg_price_30', 'avg_price_365', 'ratio_avg_price_5_30',\n",
       "       'ratio_avg_price_5_365', 'ratio_avg_price_30_365', 'avg_volume_5',\n",
       "       'avg_volume_30', 'avg_volume_365', 'ratio_avg_volume_5_30',\n",
       "       'ratio_avg_volume_5_365', 'ratio_avg_volume_30_365', 'std_price_5',\n",
       "       'std_price_30', 'std_price_365', 'ratio_std_price_5_30',\n",
       "       'ratio_std_price_5_365', 'ratio_std_price_30_365', 'std_volume_5',\n",
       "       'std_volume_30', 'std_volume_365', 'ratio_std_volume_5_30',\n",
       "       'ratio_std_volume_5_365', 'ratio_std_volume_30_365', 'return_1',\n",
       "       'return_5', 'return_30', 'return_365', 'moving_avg_5', 'moving_avg_30',\n",
       "       'moving_avg_365', 'Price_Rise'],\n",
       "      dtype='object')"
      ]
     },
     "execution_count": 24,
     "metadata": {},
     "output_type": "execute_result"
    }
   ],
   "source": [
    "data.columns"
   ]
  },
  {
   "cell_type": "markdown",
   "metadata": {},
   "source": [
    "api_key_alpha='LQ7YJVLYENUQ88GJ'\n",
    "\n",
    "from datetime import datetime\n",
    "f = web.DataReader(\"KLAC\", \"av-daily\", start=datetime(2016,11, 1), end=datetime(2019,12,17), api_key=api_key_alpha)"
   ]
  },
  {
   "cell_type": "markdown",
   "metadata": {},
   "source": [
    "import matplotlib.pyplot as plt\n",
    "import seaborn as sns\n",
    "\n",
    "corr=df_n.corr()\n",
    "close_corr=corr.iloc[[-8],:-8]\n",
    "# Plotting the Correlation DF as a heatmap\n",
    "plt.figure(figsize=(16,1))\n",
    "sns.heatmap(close_corr, annot=False, linewidths=.1, cmap=\"coolwarm\")\n",
    "plt.xticks()\n",
    "plt.yticks(rotation=0)\n",
    "#plt.savefig(\"corr_dec.png\")\n",
    "plt.show()"
   ]
  },
  {
   "cell_type": "markdown",
   "metadata": {},
   "source": [
    "for t in [1]:\n",
    "    data[f'target_{t}m'] = data[f'return_{t}'].shift(-t)"
   ]
  },
  {
   "cell_type": "markdown",
   "metadata": {},
   "source": [
    "corr=df_new.corr()\n",
    "correlations_target = corr.sort_values('return_1')['return_1']\n",
    "# Most negative correlations\n",
    "correlations_target"
   ]
  },
  {
   "cell_type": "code",
   "execution_count": 42,
   "metadata": {},
   "outputs": [
    {
     "data": {
      "text/html": [
       "<div>\n",
       "<style scoped>\n",
       "    .dataframe tbody tr th:only-of-type {\n",
       "        vertical-align: middle;\n",
       "    }\n",
       "\n",
       "    .dataframe tbody tr th {\n",
       "        vertical-align: top;\n",
       "    }\n",
       "\n",
       "    .dataframe thead th {\n",
       "        text-align: right;\n",
       "    }\n",
       "</style>\n",
       "<table border=\"1\" class=\"dataframe\">\n",
       "  <thead>\n",
       "    <tr style=\"text-align: right;\">\n",
       "      <th></th>\n",
       "      <th>High</th>\n",
       "      <th>Low</th>\n",
       "      <th>Open</th>\n",
       "      <th>Close</th>\n",
       "      <th>Volume</th>\n",
       "      <th>Adj Close</th>\n",
       "    </tr>\n",
       "    <tr>\n",
       "      <th>Date</th>\n",
       "      <th></th>\n",
       "      <th></th>\n",
       "      <th></th>\n",
       "      <th></th>\n",
       "      <th></th>\n",
       "      <th></th>\n",
       "    </tr>\n",
       "  </thead>\n",
       "  <tbody>\n",
       "    <tr>\n",
       "      <th>2006-01-03</th>\n",
       "      <td>50.900002</td>\n",
       "      <td>48.619999</td>\n",
       "      <td>49.330002</td>\n",
       "      <td>50.689999</td>\n",
       "      <td>4348200.0</td>\n",
       "      <td>28.737034</td>\n",
       "    </tr>\n",
       "    <tr>\n",
       "      <th>2006-01-04</th>\n",
       "      <td>50.939999</td>\n",
       "      <td>49.970001</td>\n",
       "      <td>50.490002</td>\n",
       "      <td>50.290001</td>\n",
       "      <td>3368600.0</td>\n",
       "      <td>28.510275</td>\n",
       "    </tr>\n",
       "    <tr>\n",
       "      <th>2006-01-05</th>\n",
       "      <td>51.009998</td>\n",
       "      <td>50.119999</td>\n",
       "      <td>50.290001</td>\n",
       "      <td>50.509998</td>\n",
       "      <td>4254500.0</td>\n",
       "      <td>28.634995</td>\n",
       "    </tr>\n",
       "    <tr>\n",
       "      <th>2006-01-06</th>\n",
       "      <td>52.000000</td>\n",
       "      <td>50.619999</td>\n",
       "      <td>50.900002</td>\n",
       "      <td>52.000000</td>\n",
       "      <td>4008600.0</td>\n",
       "      <td>29.479698</td>\n",
       "    </tr>\n",
       "    <tr>\n",
       "      <th>2006-01-09</th>\n",
       "      <td>53.349998</td>\n",
       "      <td>52.299999</td>\n",
       "      <td>52.450001</td>\n",
       "      <td>53.009998</td>\n",
       "      <td>5027100.0</td>\n",
       "      <td>30.052292</td>\n",
       "    </tr>\n",
       "  </tbody>\n",
       "</table>\n",
       "</div>"
      ],
      "text/plain": [
       "                 High        Low       Open      Close     Volume  Adj Close\n",
       "Date                                                                        \n",
       "2006-01-03  50.900002  48.619999  49.330002  50.689999  4348200.0  28.737034\n",
       "2006-01-04  50.939999  49.970001  50.490002  50.290001  3368600.0  28.510275\n",
       "2006-01-05  51.009998  50.119999  50.290001  50.509998  4254500.0  28.634995\n",
       "2006-01-06  52.000000  50.619999  50.900002  52.000000  4008600.0  29.479698\n",
       "2006-01-09  53.349998  52.299999  52.450001  53.009998  5027100.0  30.052292"
      ]
     },
     "execution_count": 42,
     "metadata": {},
     "output_type": "execute_result"
    }
   ],
   "source": [
    "df.head()"
   ]
  },
  {
   "cell_type": "markdown",
   "metadata": {},
   "source": [
    "#### Technical Analysis Library in Python\n"
   ]
  },
  {
   "cell_type": "code",
   "execution_count": 43,
   "metadata": {},
   "outputs": [],
   "source": [
    "df = ta.utils.dropna(df)"
   ]
  },
  {
   "cell_type": "code",
   "execution_count": 44,
   "metadata": {},
   "outputs": [
    {
     "data": {
      "text/plain": [
       "(3578, 6)"
      ]
     },
     "execution_count": 44,
     "metadata": {},
     "output_type": "execute_result"
    }
   ],
   "source": [
    "df.shape"
   ]
  },
  {
   "cell_type": "code",
   "execution_count": 46,
   "metadata": {},
   "outputs": [
    {
     "name": "stderr",
     "output_type": "stream",
     "text": [
      "C:\\Users\\FLORENCIA\\anaconda3\\lib\\site-packages\\ta\\trend.py:543: RuntimeWarning: invalid value encountered in double_scalars\n",
      "  dip[i] = 100 * (self._dip[i]/self._trs[i])\n",
      "C:\\Users\\FLORENCIA\\anaconda3\\lib\\site-packages\\ta\\trend.py:547: RuntimeWarning: invalid value encountered in double_scalars\n",
      "  din[i] = 100 * (self._din[i]/self._trs[i])\n"
     ]
    }
   ],
   "source": [
    "# Add all ta features\n",
    "df_new = ta.add_all_ta_features(\n",
    "    df, open=\"Open\", high=\"High\", low=\"Low\", close=\"Close\", volume=\"Volume\")"
   ]
  },
  {
   "cell_type": "code",
   "execution_count": 47,
   "metadata": {},
   "outputs": [],
   "source": [
    "# Create target dataframe\n",
    "# calculate other dataframes"
   ]
  },
  {
   "cell_type": "code",
   "execution_count": 48,
   "metadata": {},
   "outputs": [],
   "source": [
    "df_new['return']=(df_new.Close.shift(-1)/df_new.Close)-1 #el retorno del prox día\n",
    "df_new['target']= (df_new['return'] > 0).astype(int)"
   ]
  },
  {
   "cell_type": "code",
   "execution_count": 49,
   "metadata": {},
   "outputs": [
    {
     "data": {
      "text/plain": [
       "<matplotlib.axes._subplots.AxesSubplot at 0x24e056cb088>"
      ]
     },
     "execution_count": 49,
     "metadata": {},
     "output_type": "execute_result"
    },
    {
     "data": {
      "image/png": "[encoded data removed]",
      "text/plain": [
       "<Figure size 432x288 with 1 Axes>"
      ]
     },
     "metadata": {},
     "output_type": "display_data"
    }
   ],
   "source": [
    "df_new['target'].value_counts().plot.bar()"
   ]
  },
  {
   "cell_type": "code",
   "execution_count": 50,
   "metadata": {},
   "outputs": [],
   "source": [
    "df_new=df_new.drop(columns=['trend_psar_up', 'trend_psar_down'], axis=1)"
   ]
  },
  {
   "cell_type": "code",
   "execution_count": 51,
   "metadata": {},
   "outputs": [],
   "source": [
    "df_new.fillna(method='bfill', inplace=True)"
   ]
  },
  {
   "cell_type": "code",
   "execution_count": 52,
   "metadata": {},
   "outputs": [
    {
     "data": {
      "text/plain": [
       "others_dlr       -0.052204\n",
       "others_dr        -0.049803\n",
       "volume_em        -0.030624\n",
       "volatility_kcw   -0.029466\n",
       "volume_cmf       -0.026554\n",
       "                    ...   \n",
       "volume_nvi        0.032640\n",
       "volume_obv        0.035422\n",
       "volume_adi        0.040973\n",
       "return            0.684408\n",
       "target            1.000000\n",
       "Name: target, Length: 76, dtype: float64"
      ]
     },
     "execution_count": 52,
     "metadata": {},
     "output_type": "execute_result"
    }
   ],
   "source": [
    "corr=df_new.corr()\n",
    "correlations_target = corr.sort_values('target')['target']\n",
    "# Most negative correlations\n",
    "correlations_target"
   ]
  },
  {
   "cell_type": "code",
   "execution_count": 53,
   "metadata": {},
   "outputs": [],
   "source": [
    "data.to_csv(\"{}.csv\".format(symbol+'mod'))"
   ]
  },
  {
   "cell_type": "code",
   "execution_count": 54,
   "metadata": {},
   "outputs": [],
   "source": [
    "#  quitamos del archivo la columna con el label target.\n",
    "X=df_new.drop(columns=['return', 'target'])\n",
    "# por otro lado armamos el arhivo con los resultados\n",
    "y=(df_new.target)"
   ]
  },
  {
   "cell_type": "markdown",
   "metadata": {},
   "source": [
    "X.dropna(inplace=True)\n",
    "y.dropna(inplace=True)"
   ]
  },
  {
   "cell_type": "code",
   "execution_count": 55,
   "metadata": {},
   "outputs": [],
   "source": [
    "def get_holdout_set(target, features, period=6):\n",
    "    idx = pd.IndexSlice\n",
    "    label = target.name\n",
    "    dates = np.sort(y.index.get_level_values('Date').unique())\n",
    "    cv_start, cv_end = dates[0], dates[-period - 2]\n",
    "    holdout_start, holdout_end = dates[-period - 1], dates[-1]\n",
    "\n",
    "    df = features.join(target.to_frame())\n",
    "    train = df.loc[idx[cv_start: cv_end], :]\n",
    "    y_train, X_train = train[label], train.drop(label, axis=1)\n",
    "\n",
    "    test = df.loc[idx[holdout_start: holdout_end], :]\n",
    "    y_test, X_test = test[label], test.drop(label, axis=1)\n",
    "    return y_train, X_train, y_test, X_test"
   ]
  },
  {
   "cell_type": "code",
   "execution_count": 56,
   "metadata": {},
   "outputs": [],
   "source": [
    "train_y, train_X, test_y, test_X= get_holdout_set(y, X, period=24)"
   ]
  },
  {
   "cell_type": "code",
   "execution_count": 57,
   "metadata": {},
   "outputs": [],
   "source": [
    "X_train=train_X.values\n",
    "y_train=train_y.values\n",
    "X_test=test_X.values\n",
    "y_test=test_y.values"
   ]
  },
  {
   "cell_type": "code",
   "execution_count": 58,
   "metadata": {},
   "outputs": [],
   "source": [
    "from sklearn.preprocessing import StandardScaler\n",
    "scaler = StandardScaler()\n",
    "X_scaled_train = scaler.fit_transform(X_train)\n",
    "X_scaled_test = scaler.transform(X_test)"
   ]
  },
  {
   "cell_type": "code",
   "execution_count": 59,
   "metadata": {},
   "outputs": [],
   "source": [
    "from sklearn.model_selection import GridSearchCV"
   ]
  },
  {
   "cell_type": "code",
   "execution_count": 64,
   "metadata": {},
   "outputs": [
    {
     "name": "stderr",
     "output_type": "stream",
     "text": [
      "C:\\Users\\FLORENCIA\\Anaconda\\lib\\site-packages\\sklearn\\linear_model\\stochastic_gradient.py:152: DeprecationWarning: n_iter parameter is deprecated in 0.19 and will be removed in 0.21. Use max_iter and tol instead.\n",
      "  DeprecationWarning)\n",
      "C:\\Users\\FLORENCIA\\Anaconda\\lib\\site-packages\\sklearn\\linear_model\\stochastic_gradient.py:152: DeprecationWarning: n_iter parameter is deprecated in 0.19 and will be removed in 0.21. Use max_iter and tol instead.\n",
      "  DeprecationWarning)\n",
      "C:\\Users\\FLORENCIA\\Anaconda\\lib\\site-packages\\sklearn\\linear_model\\stochastic_gradient.py:152: DeprecationWarning: n_iter parameter is deprecated in 0.19 and will be removed in 0.21. Use max_iter and tol instead.\n",
      "  DeprecationWarning)\n",
      "C:\\Users\\FLORENCIA\\Anaconda\\lib\\site-packages\\sklearn\\linear_model\\stochastic_gradient.py:152: DeprecationWarning: n_iter parameter is deprecated in 0.19 and will be removed in 0.21. Use max_iter and tol instead.\n",
      "  DeprecationWarning)\n",
      "C:\\Users\\FLORENCIA\\Anaconda\\lib\\site-packages\\sklearn\\linear_model\\stochastic_gradient.py:152: DeprecationWarning: n_iter parameter is deprecated in 0.19 and will be removed in 0.21. Use max_iter and tol instead.\n",
      "  DeprecationWarning)\n",
      "C:\\Users\\FLORENCIA\\Anaconda\\lib\\site-packages\\sklearn\\linear_model\\stochastic_gradient.py:152: DeprecationWarning: n_iter parameter is deprecated in 0.19 and will be removed in 0.21. Use max_iter and tol instead.\n",
      "  DeprecationWarning)\n",
      "C:\\Users\\FLORENCIA\\Anaconda\\lib\\site-packages\\sklearn\\linear_model\\stochastic_gradient.py:152: DeprecationWarning: n_iter parameter is deprecated in 0.19 and will be removed in 0.21. Use max_iter and tol instead.\n",
      "  DeprecationWarning)\n",
      "C:\\Users\\FLORENCIA\\Anaconda\\lib\\site-packages\\sklearn\\linear_model\\stochastic_gradient.py:152: DeprecationWarning: n_iter parameter is deprecated in 0.19 and will be removed in 0.21. Use max_iter and tol instead.\n",
      "  DeprecationWarning)\n",
      "C:\\Users\\FLORENCIA\\Anaconda\\lib\\site-packages\\sklearn\\linear_model\\stochastic_gradient.py:152: DeprecationWarning: n_iter parameter is deprecated in 0.19 and will be removed in 0.21. Use max_iter and tol instead.\n",
      "  DeprecationWarning)\n",
      "C:\\Users\\FLORENCIA\\Anaconda\\lib\\site-packages\\sklearn\\linear_model\\stochastic_gradient.py:152: DeprecationWarning: n_iter parameter is deprecated in 0.19 and will be removed in 0.21. Use max_iter and tol instead.\n",
      "  DeprecationWarning)\n",
      "C:\\Users\\FLORENCIA\\Anaconda\\lib\\site-packages\\sklearn\\linear_model\\stochastic_gradient.py:152: DeprecationWarning: n_iter parameter is deprecated in 0.19 and will be removed in 0.21. Use max_iter and tol instead.\n",
      "  DeprecationWarning)\n",
      "C:\\Users\\FLORENCIA\\Anaconda\\lib\\site-packages\\sklearn\\linear_model\\stochastic_gradient.py:152: DeprecationWarning: n_iter parameter is deprecated in 0.19 and will be removed in 0.21. Use max_iter and tol instead.\n",
      "  DeprecationWarning)\n",
      "C:\\Users\\FLORENCIA\\Anaconda\\lib\\site-packages\\sklearn\\linear_model\\stochastic_gradient.py:152: DeprecationWarning: n_iter parameter is deprecated in 0.19 and will be removed in 0.21. Use max_iter and tol instead.\n",
      "  DeprecationWarning)\n",
      "C:\\Users\\FLORENCIA\\Anaconda\\lib\\site-packages\\sklearn\\linear_model\\stochastic_gradient.py:152: DeprecationWarning: n_iter parameter is deprecated in 0.19 and will be removed in 0.21. Use max_iter and tol instead.\n",
      "  DeprecationWarning)\n",
      "C:\\Users\\FLORENCIA\\Anaconda\\lib\\site-packages\\sklearn\\linear_model\\stochastic_gradient.py:152: DeprecationWarning: n_iter parameter is deprecated in 0.19 and will be removed in 0.21. Use max_iter and tol instead.\n",
      "  DeprecationWarning)\n",
      "C:\\Users\\FLORENCIA\\Anaconda\\lib\\site-packages\\sklearn\\linear_model\\stochastic_gradient.py:152: DeprecationWarning: n_iter parameter is deprecated in 0.19 and will be removed in 0.21. Use max_iter and tol instead.\n",
      "  DeprecationWarning)\n",
      "C:\\Users\\FLORENCIA\\Anaconda\\lib\\site-packages\\sklearn\\linear_model\\stochastic_gradient.py:152: DeprecationWarning: n_iter parameter is deprecated in 0.19 and will be removed in 0.21. Use max_iter and tol instead.\n",
      "  DeprecationWarning)\n",
      "C:\\Users\\FLORENCIA\\Anaconda\\lib\\site-packages\\sklearn\\linear_model\\stochastic_gradient.py:152: DeprecationWarning: n_iter parameter is deprecated in 0.19 and will be removed in 0.21. Use max_iter and tol instead.\n",
      "  DeprecationWarning)\n",
      "C:\\Users\\FLORENCIA\\Anaconda\\lib\\site-packages\\sklearn\\linear_model\\stochastic_gradient.py:152: DeprecationWarning: n_iter parameter is deprecated in 0.19 and will be removed in 0.21. Use max_iter and tol instead.\n",
      "  DeprecationWarning)\n",
      "C:\\Users\\FLORENCIA\\Anaconda\\lib\\site-packages\\sklearn\\linear_model\\stochastic_gradient.py:152: DeprecationWarning: n_iter parameter is deprecated in 0.19 and will be removed in 0.21. Use max_iter and tol instead.\n",
      "  DeprecationWarning)\n",
      "C:\\Users\\FLORENCIA\\Anaconda\\lib\\site-packages\\sklearn\\linear_model\\stochastic_gradient.py:152: DeprecationWarning: n_iter parameter is deprecated in 0.19 and will be removed in 0.21. Use max_iter and tol instead.\n",
      "  DeprecationWarning)\n",
      "C:\\Users\\FLORENCIA\\Anaconda\\lib\\site-packages\\sklearn\\linear_model\\stochastic_gradient.py:152: DeprecationWarning: n_iter parameter is deprecated in 0.19 and will be removed in 0.21. Use max_iter and tol instead.\n",
      "  DeprecationWarning)\n",
      "C:\\Users\\FLORENCIA\\Anaconda\\lib\\site-packages\\sklearn\\linear_model\\stochastic_gradient.py:152: DeprecationWarning: n_iter parameter is deprecated in 0.19 and will be removed in 0.21. Use max_iter and tol instead.\n",
      "  DeprecationWarning)\n",
      "C:\\Users\\FLORENCIA\\Anaconda\\lib\\site-packages\\sklearn\\linear_model\\stochastic_gradient.py:152: DeprecationWarning: n_iter parameter is deprecated in 0.19 and will be removed in 0.21. Use max_iter and tol instead.\n",
      "  DeprecationWarning)\n",
      "C:\\Users\\FLORENCIA\\Anaconda\\lib\\site-packages\\sklearn\\linear_model\\stochastic_gradient.py:152: DeprecationWarning: n_iter parameter is deprecated in 0.19 and will be removed in 0.21. Use max_iter and tol instead.\n",
      "  DeprecationWarning)\n",
      "C:\\Users\\FLORENCIA\\Anaconda\\lib\\site-packages\\sklearn\\linear_model\\stochastic_gradient.py:152: DeprecationWarning: n_iter parameter is deprecated in 0.19 and will be removed in 0.21. Use max_iter and tol instead.\n",
      "  DeprecationWarning)\n",
      "C:\\Users\\FLORENCIA\\Anaconda\\lib\\site-packages\\sklearn\\linear_model\\stochastic_gradient.py:152: DeprecationWarning: n_iter parameter is deprecated in 0.19 and will be removed in 0.21. Use max_iter and tol instead.\n",
      "  DeprecationWarning)\n",
      "C:\\Users\\FLORENCIA\\Anaconda\\lib\\site-packages\\sklearn\\linear_model\\stochastic_gradient.py:152: DeprecationWarning: n_iter parameter is deprecated in 0.19 and will be removed in 0.21. Use max_iter and tol instead.\n",
      "  DeprecationWarning)\n",
      "C:\\Users\\FLORENCIA\\Anaconda\\lib\\site-packages\\sklearn\\linear_model\\stochastic_gradient.py:152: DeprecationWarning: n_iter parameter is deprecated in 0.19 and will be removed in 0.21. Use max_iter and tol instead.\n",
      "  DeprecationWarning)\n",
      "C:\\Users\\FLORENCIA\\Anaconda\\lib\\site-packages\\sklearn\\linear_model\\stochastic_gradient.py:152: DeprecationWarning: n_iter parameter is deprecated in 0.19 and will be removed in 0.21. Use max_iter and tol instead.\n",
      "  DeprecationWarning)\n",
      "C:\\Users\\FLORENCIA\\Anaconda\\lib\\site-packages\\sklearn\\linear_model\\stochastic_gradient.py:152: DeprecationWarning: n_iter parameter is deprecated in 0.19 and will be removed in 0.21. Use max_iter and tol instead.\n",
      "  DeprecationWarning)\n",
      "C:\\Users\\FLORENCIA\\Anaconda\\lib\\site-packages\\sklearn\\linear_model\\stochastic_gradient.py:152: DeprecationWarning: n_iter parameter is deprecated in 0.19 and will be removed in 0.21. Use max_iter and tol instead.\n",
      "  DeprecationWarning)\n",
      "C:\\Users\\FLORENCIA\\Anaconda\\lib\\site-packages\\sklearn\\linear_model\\stochastic_gradient.py:152: DeprecationWarning: n_iter parameter is deprecated in 0.19 and will be removed in 0.21. Use max_iter and tol instead.\n",
      "  DeprecationWarning)\n",
      "C:\\Users\\FLORENCIA\\Anaconda\\lib\\site-packages\\sklearn\\linear_model\\stochastic_gradient.py:152: DeprecationWarning: n_iter parameter is deprecated in 0.19 and will be removed in 0.21. Use max_iter and tol instead.\n",
      "  DeprecationWarning)\n",
      "C:\\Users\\FLORENCIA\\Anaconda\\lib\\site-packages\\sklearn\\linear_model\\stochastic_gradient.py:152: DeprecationWarning: n_iter parameter is deprecated in 0.19 and will be removed in 0.21. Use max_iter and tol instead.\n",
      "  DeprecationWarning)\n"
     ]
    },
    {
     "name": "stderr",
     "output_type": "stream",
     "text": [
      "C:\\Users\\FLORENCIA\\Anaconda\\lib\\site-packages\\sklearn\\linear_model\\stochastic_gradient.py:152: DeprecationWarning: n_iter parameter is deprecated in 0.19 and will be removed in 0.21. Use max_iter and tol instead.\n",
      "  DeprecationWarning)\n",
      "C:\\Users\\FLORENCIA\\Anaconda\\lib\\site-packages\\sklearn\\linear_model\\stochastic_gradient.py:152: DeprecationWarning: n_iter parameter is deprecated in 0.19 and will be removed in 0.21. Use max_iter and tol instead.\n",
      "  DeprecationWarning)\n",
      "C:\\Users\\FLORENCIA\\Anaconda\\lib\\site-packages\\sklearn\\linear_model\\stochastic_gradient.py:152: DeprecationWarning: n_iter parameter is deprecated in 0.19 and will be removed in 0.21. Use max_iter and tol instead.\n",
      "  DeprecationWarning)\n",
      "C:\\Users\\FLORENCIA\\Anaconda\\lib\\site-packages\\sklearn\\linear_model\\stochastic_gradient.py:152: DeprecationWarning: n_iter parameter is deprecated in 0.19 and will be removed in 0.21. Use max_iter and tol instead.\n",
      "  DeprecationWarning)\n",
      "C:\\Users\\FLORENCIA\\Anaconda\\lib\\site-packages\\sklearn\\linear_model\\stochastic_gradient.py:152: DeprecationWarning: n_iter parameter is deprecated in 0.19 and will be removed in 0.21. Use max_iter and tol instead.\n",
      "  DeprecationWarning)\n",
      "C:\\Users\\FLORENCIA\\Anaconda\\lib\\site-packages\\sklearn\\linear_model\\stochastic_gradient.py:152: DeprecationWarning: n_iter parameter is deprecated in 0.19 and will be removed in 0.21. Use max_iter and tol instead.\n",
      "  DeprecationWarning)\n",
      "C:\\Users\\FLORENCIA\\Anaconda\\lib\\site-packages\\sklearn\\linear_model\\stochastic_gradient.py:152: DeprecationWarning: n_iter parameter is deprecated in 0.19 and will be removed in 0.21. Use max_iter and tol instead.\n",
      "  DeprecationWarning)\n",
      "C:\\Users\\FLORENCIA\\Anaconda\\lib\\site-packages\\sklearn\\linear_model\\stochastic_gradient.py:152: DeprecationWarning: n_iter parameter is deprecated in 0.19 and will be removed in 0.21. Use max_iter and tol instead.\n",
      "  DeprecationWarning)\n",
      "C:\\Users\\FLORENCIA\\Anaconda\\lib\\site-packages\\sklearn\\linear_model\\stochastic_gradient.py:152: DeprecationWarning: n_iter parameter is deprecated in 0.19 and will be removed in 0.21. Use max_iter and tol instead.\n",
      "  DeprecationWarning)\n",
      "C:\\Users\\FLORENCIA\\Anaconda\\lib\\site-packages\\sklearn\\linear_model\\stochastic_gradient.py:152: DeprecationWarning: n_iter parameter is deprecated in 0.19 and will be removed in 0.21. Use max_iter and tol instead.\n",
      "  DeprecationWarning)\n",
      "C:\\Users\\FLORENCIA\\Anaconda\\lib\\site-packages\\sklearn\\model_selection\\_search.py:841: DeprecationWarning: The default of the `iid` parameter will change from True to False in version 0.22 and will be removed in 0.24. This will change numeric results when test-set sizes are unequal.\n",
      "  DeprecationWarning)\n",
      "C:\\Users\\FLORENCIA\\Anaconda\\lib\\site-packages\\sklearn\\linear_model\\stochastic_gradient.py:152: DeprecationWarning: n_iter parameter is deprecated in 0.19 and will be removed in 0.21. Use max_iter and tol instead.\n",
      "  DeprecationWarning)\n"
     ]
    },
    {
     "data": {
      "text/plain": [
       "GridSearchCV(cv=5, error_score='raise-deprecating',\n",
       "       estimator=SGDRegressor(alpha=0.0001, average=False, early_stopping=False, epsilon=0.1,\n",
       "       eta0=0.01, fit_intercept=True, l1_ratio=0.15,\n",
       "       learning_rate='invscaling', loss='squared_loss', max_iter=None,\n",
       "       n_iter=1000, n_iter_no_change=5, penalty='l2', power_t=0.25,\n",
       "       random_state=None, shuffle=True, tol=None, validation_fraction=0.1,\n",
       "       verbose=0, warm_start=False),\n",
       "       fit_params=None, iid='warn', n_jobs=None,\n",
       "       param_grid={'alpha': [1e-05, 3e-05, 0.0001], 'eta0': [0.01, 0.03, 0.1]},\n",
       "       pre_dispatch='2*n_jobs', refit=True, return_train_score='warn',\n",
       "       scoring='r2', verbose=0)"
      ]
     },
     "execution_count": 64,
     "metadata": {},
     "output_type": "execute_result"
    }
   ],
   "source": [
    "from sklearn.linear_model import SGDRegressor\n",
    "\n",
    "param_grid = {\"alpha\": [1e-5, 3e-5, 1e-4],\"eta0\": [0.01, 0.03, 0.1],}\n",
    "lr = SGDRegressor(penalty='l2', n_iter=1000)\n",
    "grid_search = GridSearchCV(lr, param_grid, cv=5, scoring='r2')\n",
    "grid_search.fit(X_scaled_train, y_train)"
   ]
  },
  {
   "cell_type": "code",
   "execution_count": 60,
   "metadata": {},
   "outputs": [
    {
     "ename": "NameError",
     "evalue": "name 'grid_search' is not defined",
     "output_type": "error",
     "traceback": [
      "\u001b[1;31m---------------------------------------------------------------------------\u001b[0m",
      "\u001b[1;31mNameError\u001b[0m                                 Traceback (most recent call last)",
      "\u001b[1;32m<ipython-input-60-edcb691dead4>\u001b[0m in \u001b[0;36m<module>\u001b[1;34m\u001b[0m\n\u001b[1;32m----> 1\u001b[1;33m \u001b[0mprint\u001b[0m\u001b[1;33m(\u001b[0m\u001b[0mgrid_search\u001b[0m\u001b[1;33m.\u001b[0m\u001b[0mbest_params_\u001b[0m\u001b[1;33m)\u001b[0m\u001b[1;33m\u001b[0m\u001b[1;33m\u001b[0m\u001b[0m\n\u001b[0m",
      "\u001b[1;31mNameError\u001b[0m: name 'grid_search' is not defined"
     ]
    }
   ],
   "source": [
    "print(grid_search.best_params_)"
   ]
  },
  {
   "cell_type": "code",
   "execution_count": 61,
   "metadata": {},
   "outputs": [
    {
     "ename": "NameError",
     "evalue": "name 'grid_search' is not defined",
     "output_type": "error",
     "traceback": [
      "\u001b[1;31m---------------------------------------------------------------------------\u001b[0m",
      "\u001b[1;31mNameError\u001b[0m                                 Traceback (most recent call last)",
      "\u001b[1;32m<ipython-input-61-5cb912010fbf>\u001b[0m in \u001b[0;36m<module>\u001b[1;34m\u001b[0m\n\u001b[1;32m----> 1\u001b[1;33m \u001b[0mlr_best\u001b[0m \u001b[1;33m=\u001b[0m \u001b[0mgrid_search\u001b[0m\u001b[1;33m.\u001b[0m\u001b[0mbest_estimator_\u001b[0m\u001b[1;33m\u001b[0m\u001b[1;33m\u001b[0m\u001b[0m\n\u001b[0m\u001b[0;32m      2\u001b[0m \u001b[0mpredictions_lr\u001b[0m \u001b[1;33m=\u001b[0m \u001b[0mlr_best\u001b[0m\u001b[1;33m.\u001b[0m\u001b[0mpredict\u001b[0m\u001b[1;33m(\u001b[0m\u001b[0mX_scaled_test\u001b[0m\u001b[1;33m)\u001b[0m\u001b[1;33m\u001b[0m\u001b[1;33m\u001b[0m\u001b[0m\n",
      "\u001b[1;31mNameError\u001b[0m: name 'grid_search' is not defined"
     ]
    }
   ],
   "source": [
    "lr_best = grid_search.best_estimator_\n",
    "predictions_lr = lr_best.predict(X_scaled_test)"
   ]
  },
  {
   "cell_type": "code",
   "execution_count": 67,
   "metadata": {},
   "outputs": [
    {
     "name": "stdout",
     "output_type": "stream",
     "text": [
      "MSE: 0.250\n"
     ]
    }
   ],
   "source": [
    "print('MSE: {0:.3f}'.format(mean_squared_error(y_test, predictions_lr)))"
   ]
  },
  {
   "cell_type": "code",
   "execution_count": 68,
   "metadata": {},
   "outputs": [
    {
     "name": "stdout",
     "output_type": "stream",
     "text": [
      "MAE: 0.496\n"
     ]
    }
   ],
   "source": [
    "print('MAE: {0:.3f}'.format(mean_absolute_error(y_test, predictions_lr)))"
   ]
  },
  {
   "cell_type": "code",
   "execution_count": 69,
   "metadata": {},
   "outputs": [
    {
     "name": "stdout",
     "output_type": "stream",
     "text": [
      "R^2: -0.017\n"
     ]
    }
   ],
   "source": [
    "print('R^2: {0:.3f}'.format(r2_score(y_test, predictions_lr)))"
   ]
  },
  {
   "cell_type": "markdown",
   "metadata": {},
   "source": [
    "### Neural network"
   ]
  },
  {
   "cell_type": "code",
   "execution_count": null,
   "metadata": {},
   "outputs": [],
   "source": [
    "param_grid = {'hidden_layer_sizes': [(50, 10), (30, 30)],'activation': ['logistic', 'tanh', 'relu'],'solver': ['sgd', 'adam'],\n",
    "'learning_rate_init': [0.0001, 0.0003, 0.001, 0.01],\n",
    "'alpha': [0.00003, 0.0001, 0.0003],\n",
    "'batch_size': [30, 50]}\n",
    "\n",
    "from sklearn.neural_network import MLPRegressor\n",
    "nn = MLPRegressor(random_state=42, max_iter=100)\n",
    "grid_search = GridSearchCV(nn, param_grid, cv=5, scoring='r2', n_jobs=-1)\n",
    "grid_search.fit(X_scaled_train, y_train)\n",
    "\n",
    "\n",
    "nn_best = grid_search.best_estimator_\n",
    "predictions_nn = nn_best.predict(X_scaled_test)"
   ]
  },
  {
   "cell_type": "code",
   "execution_count": null,
   "metadata": {},
   "outputs": [],
   "source": [
    "print('MSE: {0:.3f}'.format(mean_squared_error(y_test, predictions_nn)))"
   ]
  },
  {
   "cell_type": "code",
   "execution_count": null,
   "metadata": {},
   "outputs": [],
   "source": [
    "print('MAE: {0:.3f}'.format(mean_absolute_error(y_test, predictions_nn)))"
   ]
  },
  {
   "cell_type": "code",
   "execution_count": null,
   "metadata": {},
   "outputs": [],
   "source": [
    "print('R^2: {0:.3f}'.format(r2_score(y_test, predictions_nn)))"
   ]
  },
  {
   "cell_type": "markdown",
   "metadata": {},
   "source": [
    "### Random forest Regression¶\n"
   ]
  },
  {
   "cell_type": "code",
   "execution_count": null,
   "metadata": {},
   "outputs": [],
   "source": [
    "from sklearn.ensemble import RandomForestRegressor\n",
    "rf_reg = RandomForestRegressor(n_estimators=10, \n",
    "                                max_depth=None, \n",
    "                                min_samples_split=2, \n",
    "                                min_samples_leaf=1, \n",
    "                                min_weight_fraction_leaf=0.0, \n",
    "                                max_features='auto', \n",
    "                                max_leaf_nodes=None, \n",
    "                                min_impurity_decrease=0.0, \n",
    "                                min_impurity_split=None, \n",
    "                                bootstrap=True, \n",
    "                                oob_score=False, \n",
    "                                n_jobs=-1, \n",
    "                                random_state=None, \n",
    "                                verbose=0, \n",
    "                                warm_start=False)"
   ]
  },
  {
   "cell_type": "code",
   "execution_count": null,
   "metadata": {},
   "outputs": [],
   "source": [
    "rf_reg.fit(y=y_train, X=X_train)"
   ]
  },
  {
   "cell_type": "code",
   "execution_count": null,
   "metadata": {},
   "outputs": [],
   "source": [
    "predictions_rf_reg= rf_reg.predict(X_test)"
   ]
  },
  {
   "cell_type": "code",
   "execution_count": null,
   "metadata": {},
   "outputs": [],
   "source": [
    "print('MSE: {0:.3f}'.format(mean_squared_error(y_test, predictions_rf_reg)))"
   ]
  },
  {
   "cell_type": "code",
   "execution_count": null,
   "metadata": {},
   "outputs": [],
   "source": [
    "print('MAE: {0:.3f}'.format(mean_absolute_error(y_test, predictions_rf_reg)))"
   ]
  },
  {
   "cell_type": "code",
   "execution_count": null,
   "metadata": {},
   "outputs": [],
   "source": [
    "print('R^2: {0:.3f}'.format(r2_score(y_test, predictions_rf_reg)))"
   ]
  },
  {
   "cell_type": "code",
   "execution_count": null,
   "metadata": {},
   "outputs": [],
   "source": [
    "#del test\n",
    "test=pd.DataFrame(y_test)"
   ]
  },
  {
   "cell_type": "code",
   "execution_count": null,
   "metadata": {},
   "outputs": [],
   "source": [
    "predictions_lr=pd.DataFrame(predictions_lr)\n",
    "predictions_rf_reg=pd.DataFrame(predictions_rf_reg)\n",
    "predictions_nn=pd.DataFrame(predictions_nn)\n",
    "\n",
    "\n"
   ]
  },
  {
   "cell_type": "code",
   "execution_count": null,
   "metadata": {},
   "outputs": [],
   "source": [
    "test=test.merge(predictions_lr, left_index=True, right_index=True, how='left',  suffixes=('_a', '_b'))\n",
    "test.head()"
   ]
  },
  {
   "cell_type": "code",
   "execution_count": null,
   "metadata": {},
   "outputs": [],
   "source": [
    "test=test.merge(predictions_rf_reg, left_index=True, right_index=True, how='left',  suffixes=('_c', '_d'))\n",
    "test.head()"
   ]
  },
  {
   "cell_type": "code",
   "execution_count": null,
   "metadata": {},
   "outputs": [],
   "source": [
    "test=test.merge(predictions_nn, left_index=True, right_index=True, how='left',  suffixes=('_e', '_f'))\n",
    "test.head()"
   ]
  },
  {
   "cell_type": "markdown",
   "metadata": {},
   "source": [
    "test['Price_Rise']= np.where(test['0_x'][:1] > y_train[-1], 1, 0)\n",
    "test[:1]"
   ]
  },
  {
   "cell_type": "code",
   "execution_count": null,
   "metadata": {},
   "outputs": [],
   "source": [
    "data.reset_index(inplace=True)"
   ]
  },
  {
   "cell_type": "markdown",
   "metadata": {},
   "source": [
    "data.iloc[(len(data) - len(y_test)):,-1:]"
   ]
  },
  {
   "cell_type": "code",
   "execution_count": null,
   "metadata": {},
   "outputs": [],
   "source": [
    "test['Price_Rise'] = np.where(test['0_a'] > test['0_a'].shift(1), 1, 0)\n",
    "test['Price_Rise_modelo1'] = np.where(test['0_b'] > test['0_b'].shift(1), 1, 0)\n",
    "test['Price_Rise_modelo2'] = np.where(test['0_e'] > test['0_e'].shift(1), 1, 0)\n",
    "test['Price_Rise_modelo3'] = np.where(test['0_f'] > test['0_f'].shift(1), 1, 0)\n",
    "\n",
    "#Computing Strategy Returns\n",
    "test['Tomorrows Returns'] = 0\n",
    "test['Tomorrows Returns'] = np.log(test['0_a']/test['0_a'].shift(1))\n",
    "test['Tomorrows Returns'] = test['Tomorrows Returns'].shift(-1)\n",
    "\n",
    "\n",
    "test['Strategy Returns1'] = 0\n",
    "test['Strategy Returns1']= np.log(test['0_b']/test['0_b'].shift(1))\n",
    "test['Strategy Returns1']=test['Strategy Returns1'].shift(-1)\n",
    "\n",
    "#test['Strategy Returns1'] = np.where(test['Price_Rise_modelo1'] == test['Price_Rise'], test['Tomorrows Returns'], - test['Tomorrows Returns'])\n",
    "\n",
    "test['Strategy Returns2'] = 0.\n",
    "#test['Strategy Returns2'] = np.where(test['Price_Rise_modelo2'] == test['Price_Rise'], test['Tomorrows Returns'], - test['Tomorrows Returns'])\n",
    "test['Strategy Returns2']= np.log(test['0_e']/test['0_e'].shift(1))\n",
    "test['Strategy Returns2']=test['Strategy Returns2'].shift(-1)\n",
    "\n",
    "test['Strategy Returns3'] = 0.\n",
    "#test['Strategy Returns2'] = np.where(test['Price_Rise_modelo2'] == test['Price_Rise'], test['Tomorrows Returns'], - test['Tomorrows Returns'])\n",
    "test['Strategy Returns3']= np.log(test['0_f']/test['0_f'].shift(1))\n",
    "test['Strategy Returns3']=test['Strategy Returns3'].shift(-1)\n",
    "\n",
    "test['Cumulative Market Returns'] = np.cumsum(test['Tomorrows Returns'])\n",
    "test['Cumulative Strategy Returns1'] = np.cumsum(test['Strategy Returns1'])\n",
    "test['Cumulative Strategy Returns2'] = np.cumsum(test['Strategy Returns2'])\n",
    "test['Cumulative Strategy Returns3'] = np.cumsum(test['Strategy Returns3'])\n"
   ]
  },
  {
   "cell_type": "code",
   "execution_count": null,
   "metadata": {},
   "outputs": [],
   "source": [
    "#Plotting the graph of returns\n",
    "plt.figure(figsize=(10,5))\n",
    "plt.plot(test['Cumulative Market Returns'], color='r', label='Market Returns')\n",
    "plt.plot(test['Cumulative Strategy Returns1'], color='g', label='Strategy Returns1')\n",
    "plt.plot(test['Cumulative Strategy Returns2'], color='b', label='Strategy Returns2')\n",
    "plt.plot(test['Cumulative Strategy Returns3'], color='y', label='Strategy Returns3')\n",
    "\n",
    "plt.legend()\n",
    "plt.show()"
   ]
  },
  {
   "cell_type": "code",
   "execution_count": null,
   "metadata": {},
   "outputs": [],
   "source": [
    "#Plotting the graph of returns\n",
    "plt.figure(figsize=(10,5))\n",
    "plt.plot(test['0_a'], color='r', label='Market Returns')\n",
    "plt.plot(test['0_b'], color='g', label='Strategy Returns1')\n",
    "plt.plot(test['0_e'], color='b', label='Strategy Returns2')\n",
    "plt.plot(test['0_f'], color='y', label='Strategy Returns3')\n",
    "\n",
    "plt.legend()\n",
    "plt.show()"
   ]
  },
  {
   "cell_type": "markdown",
   "metadata": {},
   "source": [
    "### Feature Importance"
   ]
  },
  {
   "cell_type": "code",
   "execution_count": null,
   "metadata": {},
   "outputs": [],
   "source": [
    "(pd.Series(rf_reg.feature_importances_, \n",
    "          index=X.columns)\n",
    " .sort_values(ascending=False)\n",
    " .head(15)).sort_values().plot.barh(title='Feature Importance');"
   ]
  },
  {
   "cell_type": "code",
   "execution_count": null,
   "metadata": {},
   "outputs": [],
   "source": [
    "predicted_test = rf_reg.predict(X_test)"
   ]
  },
  {
   "cell_type": "code",
   "execution_count": null,
   "metadata": {},
   "outputs": [],
   "source": [
    "print('Error del modelo=', calculate_error(y_test, predicted_test))\n",
    "print('RMSE del modelo=',np.sqrt(mse((y_test), predicted_test)))\n",
    "print('Median Error del modelo=', median_error(y_test, predicted_test))\n",
    "print('R2=', r2(y_test, predicted_test))\n",
    "print('variance_score=', variance_score(y_test, predicted_test))"
   ]
  },
  {
   "cell_type": "code",
   "execution_count": null,
   "metadata": {},
   "outputs": [],
   "source": [
    "#last date\n"
   ]
  },
  {
   "cell_type": "markdown",
   "metadata": {},
   "source": [
    "### Guardar el modelo"
   ]
  },
  {
   "cell_type": "code",
   "execution_count": null,
   "metadata": {},
   "outputs": [],
   "source": [
    "# Importing the library\n",
    "from joblib import dump\n",
    "# Saving the classification model as a file named 'xgboost.joblib'\n",
    "dump(clf, “xgboost.joblib”)"
   ]
  },
  {
   "cell_type": "code",
   "execution_count": null,
   "metadata": {},
   "outputs": [],
   "source": [
    "# Loading Pretrained XGBoost Model we made from our numerous trials\n",
    "clf = load(\"xgboost_top10_feats_final_model.joblib\")\n"
   ]
  },
  {
   "cell_type": "markdown",
   "metadata": {},
   "source": [
    "### Fundamental Analysis"
   ]
  },
  {
   "cell_type": "code",
   "execution_count": null,
   "metadata": {},
   "outputs": [],
   "source": [
    "# Loading Pretrained XGBoost Model\n",
    "from joblib import load\n",
    "\n",
    "clf = load(\"xgboost_top10_feats_final_model.joblib\")\n"
   ]
  },
  {
   "cell_type": "code",
   "execution_count": null,
   "metadata": {},
   "outputs": [],
   "source": [
    "clf"
   ]
  },
  {
   "cell_type": "code",
   "execution_count": null,
   "metadata": {},
   "outputs": [],
   "source": []
  }
 ],
 "metadata": {
  "kernelspec": {
   "display_name": "Python 3",
   "language": "python",
   "name": "python3"
  },
  "language_info": {
   "codemirror_mode": {
    "name": "ipython",
    "version": 3
   },
   "file_extension": ".py",
   "mimetype": "text/x-python",
   "name": "python",
   "nbconvert_exporter": "python",
   "pygments_lexer": "ipython3",
   "version": "3.7.6"
  }
 },
 "nbformat": 4,
 "nbformat_minor": 2
}
